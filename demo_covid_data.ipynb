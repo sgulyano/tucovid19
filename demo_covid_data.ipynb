{
 "cells": [
  {
   "cell_type": "code",
   "execution_count": 1,
   "metadata": {},
   "outputs": [],
   "source": [
    "import pandas as pd\n",
    "from datetime import datetime, timedelta  \n",
    "from py2neo import Graph, Node, Relationship"
   ]
  },
  {
   "cell_type": "code",
   "execution_count": 2,
   "metadata": {},
   "outputs": [],
   "source": [
    "data = pd.read_excel(open('Report form for TU (การตอบกลับ).xlsx', 'rb'), sheet_name='การตอบแบบฟอร์ม 1')  "
   ]
  },
  {
   "cell_type": "code",
   "execution_count": 3,
   "metadata": {},
   "outputs": [
    {
     "data": {
      "text/plain": [
       "Index(['ประทับเวลา', 'คำนำหน้าชื่อ', 'ชื่อ-นามสกุล (Full name)', 'เพศ (Sex)',\n",
       "       'อายุ (Age)', 'เบอร์โทรศัพท์ (Telephone no.)', 'Email',\n",
       "       'ที่อยู่ปัจจุบัน (โปรดระบุ) ', 'ที่อยู่ปัจจุบันโปรดระบุ(Address)',\n",
       "       'อาชีพ (Occupation)', 'คณะ/สังกัด(Faculty/Department)',\n",
       "       'ศูนย์ (Campus)',\n",
       "       'อาศัยอยู่หรือเดินทางมาจากพื้นที่ระบาด (Resided in or returned from the area affected by the out breaks)',\n",
       "       'เดินทางเข้าประเทศเมื่อวันที่ (Entered Thailand on) หากไม่ได้มีประวัติการเดินทางให้ลงวันที่สัมผัสใกล้ชิดผู้เข้าข่ายหรือยืนยันโรคติดเชื้อ',\n",
       "       'โดยสายการบิน (Airline)', 'เที่ยวบินที่ (Fight no.) ',\n",
       "       'เลขที่นั่ง (Seat no.)', 'อาการไข้ Fever',\n",
       "       'อาการอื่นๆ (Sign and symptoms)',\n",
       "       'วันที่เริ่มป่วย(Date of illness onset)',\n",
       "       'วันที่เข้ารับการรักษาครั้งเเรก (Date of first visit/hospitalization)',\n",
       "       'ชื่อสถานบริการ (Name of health facility of first visit/hospitalization)',\n",
       "       'ปัจจุบันยังมีอาการผิดปกติอยู่หรือไม่ (Have you been getting symptoms recently?)',\n",
       "       'เดินทางเข้าประเทศเมื่อวันที่ (Entered Thailand on) / สัมผัสใกล้ชิดกับผู้เข้าข่ายหรือยืนยันการติดเชื้อวันที่ (Exposure date)',\n",
       "       'อาศัยอยู่ในประเทศหรือเดินทางมาจากพื้นที่ระบาด ( Resided in or Returned from the area affected by the outbreaks)',\n",
       "       'ปัจจัยเสี่ยงอื่น', 'โปรดระบุลักษณะการสัมผัสผู้ป่วยเข้าข่ายหรือยืนยัน',\n",
       "       'โดยสายการบิน (Airlines)', 'เที่ยวบินที่ (Flight No.)',\n",
       "       'เลขที่นั่ง (SEAT No.)', 'ปัจจัยเสี่ยง',\n",
       "       'ระบุลักษณะการสัมผัสกับผู้ป่วยเข้าข่ายหรือยืนยัน'],\n",
       "      dtype='object')"
      ]
     },
     "execution_count": 3,
     "metadata": {},
     "output_type": "execute_result"
    }
   ],
   "source": [
    "data.columns"
   ]
  },
  {
   "cell_type": "code",
   "execution_count": 4,
   "metadata": {},
   "outputs": [],
   "source": [
    "patients = data[['ชื่อ-นามสกุล (Full name)', \n",
    "                 'เพศ (Sex)', \n",
    "                 'อายุ (Age)', \n",
    "                 'เบอร์โทรศัพท์ (Telephone no.)', \n",
    "                 'Email', \n",
    "                 'ที่อยู่ปัจจุบันโปรดระบุ(Address)', \n",
    "                 'อาชีพ (Occupation)', \n",
    "                 'คณะ/สังกัด(Faculty/Department)', \n",
    "                 'อาศัยอยู่หรือเดินทางมาจากพื้นที่ระบาด (Resided in or returned from the area affected by the out breaks)',\n",
    "                 'เดินทางเข้าประเทศเมื่อวันที่ (Entered Thailand on) หากไม่ได้มีประวัติการเดินทางให้ลงวันที่สัมผัสใกล้ชิดผู้เข้าข่ายหรือยืนยันโรคติดเชื้อ',\n",
    "                 'อาการไข้ Fever',\n",
    "                 'ปัจจุบันยังมีอาการผิดปกติอยู่หรือไม่ (Have you been getting symptoms recently?)',\n",
    "                 'ปัจจัยเสี่ยงอื่น']]"
   ]
  },
  {
   "cell_type": "code",
   "execution_count": 5,
   "metadata": {},
   "outputs": [
    {
     "name": "stderr",
     "output_type": "stream",
     "text": [
      "/home/yoyo/anaconda3/lib/python3.7/site-packages/pandas/core/generic.py:6287: SettingWithCopyWarning: \n",
      "A value is trying to be set on a copy of a slice from a DataFrame\n",
      "\n",
      "See the caveats in the documentation: http://pandas.pydata.org/pandas-docs/stable/user_guide/indexing.html#returning-a-view-versus-a-copy\n",
      "  self._update_inplace(new_data)\n",
      "/home/yoyo/.local/lib/python3.7/site-packages/ipykernel_launcher.py:2: SettingWithCopyWarning: \n",
      "A value is trying to be set on a copy of a slice from a DataFrame.\n",
      "Try using .loc[row_indexer,col_indexer] = value instead\n",
      "\n",
      "See the caveats in the documentation: http://pandas.pydata.org/pandas-docs/stable/user_guide/indexing.html#returning-a-view-versus-a-copy\n",
      "  \n",
      "/home/yoyo/.local/lib/python3.7/site-packages/ipykernel_launcher.py:4: SettingWithCopyWarning: \n",
      "A value is trying to be set on a copy of a slice from a DataFrame.\n",
      "Try using .loc[row_indexer,col_indexer] = value instead\n",
      "\n",
      "See the caveats in the documentation: http://pandas.pydata.org/pandas-docs/stable/user_guide/indexing.html#returning-a-view-versus-a-copy\n",
      "  after removing the cwd from sys.path.\n"
     ]
    }
   ],
   "source": [
    "patients['ชื่อ-นามสกุล (Full name)'].fillna('', inplace=True)\n",
    "patients['ชื่อ-นามสกุล (Full name)'] = patients['ชื่อ-นามสกุล (Full name)'].apply(lambda x: x.replace(u'\\u200b', '').strip())\n",
    "patients['คณะ/สังกัด(Faculty/Department)'].fillna('-', inplace=True)\n",
    "patients['คณะ/สังกัด(Faculty/Department)'] = patients['คณะ/สังกัด(Faculty/Department)'].apply(lambda x: x.replace(u'\\u200b', '').strip().upper())\n",
    "patients['อาศัยอยู่หรือเดินทางมาจากพื้นที่ระบาด (Resided in or returned from the area affected by the out breaks)'].fillna('', inplace=True)\n",
    "patients['ปัจจัยเสี่ยงอื่น'].fillna('', inplace=True)"
   ]
  },
  {
   "cell_type": "code",
   "execution_count": 6,
   "metadata": {},
   "outputs": [
    {
     "name": "stderr",
     "output_type": "stream",
     "text": [
      "/home/yoyo/.local/lib/python3.7/site-packages/ipykernel_launcher.py:12: SettingWithCopyWarning: \n",
      "A value is trying to be set on a copy of a slice from a DataFrame.\n",
      "Try using .loc[row_indexer,col_indexer] = value instead\n",
      "\n",
      "See the caveats in the documentation: http://pandas.pydata.org/pandas-docs/stable/user_guide/indexing.html#returning-a-view-versus-a-copy\n",
      "  if sys.path[0] == '':\n"
     ]
    }
   ],
   "source": [
    "def clear_place(a):\n",
    "    a = a.upper()\n",
    "    if 'ก้ำกึ่ง' in a or 'ก้ำกึ้ง' in a or 'ก่ำกึ่ง' in a:\n",
    "        return 'ก้ำกึ่ง'\n",
    "    elif 'ไม่ได้' in a or '-' in a or 'NO' in a:\n",
    "        return ''\n",
    "    elif 'เสี่ยง' in a or 'pui' in a:\n",
    "        return 'ใกล้กลุ่มเสี่ยง'\n",
    "    else:\n",
    "        return a\n",
    "patients['อาศัยอยู่หรือเดินทางมาจากพื้นที่ระบาด (Resided in or returned from the area affected by the out breaks)'] = \\\n",
    "        patients['อาศัยอยู่หรือเดินทางมาจากพื้นที่ระบาด (Resided in or returned from the area affected by the out breaks)'].apply(clear_place)"
   ]
  },
  {
   "cell_type": "code",
   "execution_count": 7,
   "metadata": {},
   "outputs": [
    {
     "data": {
      "text/plain": [
       "Index(['ชื่อ-นามสกุล (Full name)', 'เพศ (Sex)', 'อายุ (Age)',\n",
       "       'เบอร์โทรศัพท์ (Telephone no.)', 'Email',\n",
       "       'ที่อยู่ปัจจุบันโปรดระบุ(Address)', 'อาชีพ (Occupation)',\n",
       "       'คณะ/สังกัด(Faculty/Department)',\n",
       "       'อาศัยอยู่หรือเดินทางมาจากพื้นที่ระบาด (Resided in or returned from the area affected by the out breaks)',\n",
       "       'เดินทางเข้าประเทศเมื่อวันที่ (Entered Thailand on) หากไม่ได้มีประวัติการเดินทางให้ลงวันที่สัมผัสใกล้ชิดผู้เข้าข่ายหรือยืนยันโรคติดเชื้อ',\n",
       "       'อาการไข้ Fever',\n",
       "       'ปัจจุบันยังมีอาการผิดปกติอยู่หรือไม่ (Have you been getting symptoms recently?)',\n",
       "       'ปัจจัยเสี่ยงอื่น'],\n",
       "      dtype='object')"
      ]
     },
     "execution_count": 7,
     "metadata": {},
     "output_type": "execute_result"
    }
   ],
   "source": [
    "patients.columns"
   ]
  },
  {
   "cell_type": "code",
   "execution_count": 8,
   "metadata": {},
   "outputs": [
    {
     "data": {
      "text/plain": [
       "array(['ไม่มี (No)', 'มี (Yes)'], dtype=object)"
      ]
     },
     "execution_count": 8,
     "metadata": {},
     "output_type": "execute_result"
    }
   ],
   "source": [
    "patients['อาการไข้ Fever'].unique()"
   ]
  },
  {
   "cell_type": "code",
   "execution_count": 9,
   "metadata": {},
   "outputs": [
    {
     "data": {
      "text/plain": [
       "array(['ไม่มี (No)', 'มี (Yes)', nan], dtype=object)"
      ]
     },
     "execution_count": 9,
     "metadata": {},
     "output_type": "execute_result"
    }
   ],
   "source": [
    "patients['ปัจจุบันยังมีอาการผิดปกติอยู่หรือไม่ (Have you been getting symptoms recently?)'].unique()"
   ]
  },
  {
   "cell_type": "code",
   "execution_count": 10,
   "metadata": {},
   "outputs": [
    {
     "data": {
      "text/plain": [
       "array(['',\n",
       "       'มีประวัติใกล้ชิด สัมผัส กับผู้ป่วยเข้าข่ายหรือยืนยันโรค COVID=19',\n",
       "       'มีประวัติใกล้ชิด สัมผัส กับผู้ป่วยเข้าข่ายหรือยืนยันโรค COVID-19',\n",
       "       'มีผู้อาศัยร่วมบ้านเดินทางกลับมาจากพื้นที่เสี่ยงต่อการระบาดต่อเนื่อง'],\n",
       "      dtype=object)"
      ]
     },
     "execution_count": 10,
     "metadata": {},
     "output_type": "execute_result"
    }
   ],
   "source": [
    "patients['ปัจจัยเสี่ยงอื่น'].unique()"
   ]
  },
  {
   "cell_type": "code",
   "execution_count": 11,
   "metadata": {},
   "outputs": [
    {
     "data": {
      "text/plain": [
       "array(['วารสารศาสตร์และสื่อสารมวลชน', 'แพทยศาสตร์', '-',\n",
       "       'วิทยาการเรียนรู้และศึกษาศาสตร์', 'MEDICINE', 'SIIT',\n",
       "       'สถาบันเทคโนโลยีนานาชาติสิรินธร', 'ศิลปศาสตร์',\n",
       "       'วิทยาลัยโลกคดีศึกษา', 'สาธารณสุขศาสตร์', 'FACULTY OF MEDICINE',\n",
       "       'คณะพาณิชยศาสตร์และการบัญชี', 'สำนักงานทะเบียนนักศึกษา',\n",
       "       'สหเวชศาสตร์', 'พาณิชยศาสตร์และการบัญชี', 'พาณิชย์ฯ',\n",
       "       'SIIT/ CIVIL ENGINEERING', 'สำนักงานทะเบียนนักศุกษา',\n",
       "       'คณะพยาบาลศาสตร์', 'โครงการ BAS คณะศิลปศาสตร์',\n",
       "       'โรงพยาบาลธรรมศาสตร์', 'ฝ่ายการพยาบาล รพธ.', 'สิรินธร',\n",
       "       'กองบริหารงานวิชาการ', 'ทันตแพทยศาสตร์ CICM', 'สำนักงานบริหาร',\n",
       "       'คณะทันตแพทยศาสตร์', 'รพธ', 'แพทย์',\n",
       "       'โรงเรียนสาธิตแห่งมหาวิทยาลัยธรรมศาสตร์', 'สังคมสงเคราะห์ศาสตร์',\n",
       "       'การพยาบาลผู้ป่วยโรคหัวใจและหลอดเลือด', 'คณะศิลปศาสตร์',\n",
       "       'โรงเรียนอนุบาลแห่งมหาวิทยาลัยธรรมศาสตร์',\n",
       "       'คณะวิทยาการเรียนรู้และศึกษาศาสตร์', 'คณะแพทยศาสตร์',\n",
       "       'วิทยลัยแพทยศาสตร์นานาชาติจุฬาภรณ์',\n",
       "       'วิทยาลแพทย์ศาสตรนานาชาติจุฬาภรณ์',\n",
       "       'วิทยาลัยแพทยศาสตร์นานาชาติจุฬาภรณ์',\n",
       "       'สาขาตจวิทยา วิทยาลัยแพทยศาสตร์นานาชาติจุฬาภรณ์',\n",
       "       'ศูนย์บริการสุขภาพ คณะสหเวชศาสตร์', 'วิศวกรรมศาสตร์', 'รัฐศาสตร์',\n",
       "       'DDCD', 'LIBERAL ARTS', 'คณะสังคมสงเคราะห์ศาสตร์',\n",
       "       'คณะสหเวชศาสตร์', 'BAS', 'BBA',\n",
       "       'วิทยาลัยพัฒนศาสตร์ ป๋วย อึ้งภากรณ์',\n",
       "       'คณะวารสารและสื่อสารมวลชน ภาคอินเตอร์', 'JC', 'ฝ่ายการพยาบาล',\n",
       "       'SCHOOL OF GLOBAL STUDIES / GSSE', 'JOURNALISM', 'สถาบันภาษา',\n",
       "       'คณะสถาปัตยกรรมศาสตร์และการผังเมือง', 'สังคมสงเคราะห์', 'LL.B.',\n",
       "       'โรงพยาบาลธรรมศาสตร์เฉลิมพระเกียรติ', 'วิศกรรมศาสตร์', 'LLB',\n",
       "       'ทันตแพทยศาสตร์', 'คณะวิศวกรรมศาสตร์',\n",
       "       'วิทยาลัยนานาชาติปรีดีพนมยงค์ เอกจีนศึกษา PBIC',\n",
       "       'LIBERAL ARTS (BAS)', 'นิติศาสตร์', 'สถาปัยกรรมและการผังเมือง',\n",
       "       'สถาบันไทยคดีศึกษา', 'IAC (ASEAN-CHINA INTERNATIONAL PROGRAM)',\n",
       "       'พาณิชยศาสตร์และการบัญชี หลักสูตรนานาชาติ',\n",
       "       'สังคมวิทยาและมานุษยวิทยา', 'พาณิชย์ศาสตร์และการบัญชี',\n",
       "       'วิทยาศาสตร์และเทคโนโลยี', 'วารสารศาสตร์', 'กองบริหารศูนย์รังสิต',\n",
       "       'คณะแพทยศาสตร์/สาขาการเเพทย์แผนไทยประยุกต์',\n",
       "       'FACULTY OF JOURNALISM AND MASS COMMUNICATION', 'GEMBA',\n",
       "       'UDDI - THAMMASAT DESIGN SCHOOL', 'SOCAIL GERONTOLOGY',\n",
       "       'SOCIAL GERONTOLOGY', 'CICM', 'BUSINESS', 'TBS',\n",
       "       'พาณิชศาสตร์และการบัญชี', 'BUSINESS SCHOOL',\n",
       "       'THAMMASAT BUSINESS SCHOOL', 'BBA/BE',\n",
       "       'THAMMASAT UNIVERSITY , GEMBA', 'แพทย์ศาสตร์', 'พยาบาลศาสตร์',\n",
       "       'LIBREAL ART, , ASEAN CHINA PROGRAM (IAC)', 'MT/SCM',\n",
       "       'วิทยาลัยสหวิทยาการ', 'คณะสถาปัตยกรรมศาสตร์ ( DBTM )',\n",
       "       'BBA PROGRAM', 'การพยาบาลผู้ป่วยส่องกล้องและหัตถการพิเศษ',\n",
       "       'BBA TBS', 'THAMMASAT UNIVERSITY', 'รังสีวิทยา', 'MEDICINE (CICM)',\n",
       "       'วิทยาศาสตร์', 'MIF', 'BBA THAMMASAT BUSINESS SCHOOL',\n",
       "       'ศิลปศาสตร์ สาขาวิชาญี่ปุ่นศึกษา', 'FACULTY OF LIBERAL ARTS',\n",
       "       'ศิลป์ศาสตร์', 'BAS L’ARTS', 'ศิลปศาส',\n",
       "       'FACULTY OF ARCHITECTURE & PLANNING', 'วิศวะกรรมศาสตร์',\n",
       "       'วิศวกรรมศาตร์', 'เภสัชศาสตร์', 'คณะพาณิชย์และการบัญชี',\n",
       "       'คณะศิลปกรรมศาสตร์', 'FACULTY OF POLITICAL SCIENCE', 'BIR',\n",
       "       'THAI STUDIES', 'POLITICAL SCIENCES', 'การแพทย์', 'เศรษฐศาสตร์',\n",
       "       'วิศวกรรมศาสตร์ คอมฯ', 'สถาปัตยกรรมเเละการผังเมือง',\n",
       "       'คณะวิศวกรรมศาตร์| วิศวะโยธาและบริหารงาน EBM', 'วิศวกรรทศาสตร์',\n",
       "       'TEP', 'วิศวกรร', 'วิศวะ', 'คณะสหเวชศาสตร์  สาขาเทคนิคการแพทย์',\n",
       "       'บัญชี', 'คณะสถาปัตยกรรม', 'การพยาบาลผู้ป่วยผ่าตัด',\n",
       "       'คณะนิติศาสตร์', 'วิทยาการเรียึและศึกษาศาสตร์',\n",
       "       'POLITICAL SCIENCE', 'สถาปัตยกรรมศาสตร์และการผังเมือง', 'บริหาร',\n",
       "       'วิศวกรรมศาสตร์ โยธา', 'คณะสหเวชศาสตร์ สาขากายภาพบำบัด',\n",
       "       'ศิลปกรรมศาสตร์', 'สถาปัตยกรรม', 'คณะวิทยาศาสตร์สาขาสถิติภาคพิเศษ',\n",
       "       'คณะสถาปัตยกรรมาสตร์และการผังเมือง',\n",
       "       'สหเวชศาสตร์ สาขา กายภาพบำบัด ชั้นปีที่ 2',\n",
       "       'สถาบัเทคโนโลยีนานาชาติสิรินธร', 'โลกคดีศึกษา',\n",
       "       'สังคมวิทยาเเละมานุษยวิทยา', 'คณะเศรษฐศาสตร์',\n",
       "       'พาณิชยศและการบัญชี', 'ศิลปาศาสตร์', 'สังคมวิทยา และมานุษยวิทยา',\n",
       "       'คณะสังคมวิทยาและมานุษยวิทยา', 'คณะสังคมและมานุษยวิทยา', 'สังวิท',\n",
       "       'วิทยาศาสตร์และเทคโนโลยี สาขาวิทยาการคอมพิวเตอร์',\n",
       "       'วิทยาศาสตร์และเทคโนโลยี สาขา สิ่งแวดล้อม', 'วิทย์',\n",
       "       'วิทยาศาสตร์และเทคโนโลยี/วิทยาการคอมพิวเตอร์', 'คณะสถาปัตย์',\n",
       "       'คณะแพทยศาสตร์ สาขาแผนไทยประยุกต์', 'ว.ป๋วย', 'สังคมวิทยา',\n",
       "       'ผู้ป่วย', 'PRIDI BANOMYONG INTERNATIONAL COLLEGE',\n",
       "       'PUBLIC HEALTH'], dtype=object)"
      ]
     },
     "execution_count": 11,
     "metadata": {},
     "output_type": "execute_result"
    }
   ],
   "source": [
    "patients['คณะ/สังกัด(Faculty/Department)'].unique()"
   ]
  },
  {
   "cell_type": "code",
   "execution_count": 12,
   "metadata": {},
   "outputs": [
    {
     "data": {
      "text/plain": [
       "array(['ญี่ปุ่น (JAPAN)', 'เกาหลีใต้ ( SOUTH KOREA)', 'ไต้หวัน (TAIWAN)',\n",
       "       'สิงคโปร (SINGAPORE)', 'กัวลาลัมเปอร์', 'USA', 'โรงพยาบาล บีแคร์',\n",
       "       'เวียดนาม',\n",
       "       'สัมผัสคนไข้ COVID19:POSITIVE โดยปฏิบัติงานที่โรงพยาบาลบีแคร์',\n",
       "       'MALAYSIA', 'เยอรมนี', 'TRANSIT KOREA',\n",
       "       'USA (TRANSIT AT SOUTH KOREA)', 'อินโดนีเซีย',\n",
       "       'อินโดนีเซีย (INDONESIA)', 'INDONESIA', 'VIETNAM',\n",
       "       'อิตาลี (ITALY)', 'UK', 'BHUTAN', '', 'CAMBODIA', 'MYANMAR',\n",
       "       'CAMBODIA ', 'LAOS', 'เดนมาร์ก', 'ฮ่องกง (HONG KONG)', 'VIETNAM ',\n",
       "       'PHILIPPINES', 'SINGAPORE AND LAOS', ' CAME FROM USA ORIGINALLY',\n",
       "       'DENMARK AND QATAR', 'DENMARK', 'TRANSIT มาเลเซีย', 'AUSTRALIA',\n",
       "       'VIETNAM, CAMBODIA LAOS', 'เยอรมัน (GERMANY)',\n",
       "       'TRANSFER FLIGHT ที่ JAPAN ก่อนหน้านี้นอยู่ HAWAII มา 5 สัปดาห์',\n",
       "       'ฝรั่งเศส (FRANCE)', 'SAE', 'อินเดีย', 'ออสเตรีย สวิสเซอแลนด์',\n",
       "       'SPAIN', 'สหราชอาณาจักร UK', 'พม่า', 'เมียนมา (พม่า)', 'ฟินแลนด์',\n",
       "       'INDIA', 'FINLAND ', 'FINLAND', 'เวียดยาม', 'BELGIUM',\n",
       "       'ใกล้กลุ่มเสี่ยง', 'ลาว', 'ก้ำกึ่ง', 'ไทย',\n",
       "       'ไปพื้นที่ที่มี PUI วันที่ 11 มีนาคม 2563', 'ไทย (รังสิต)',\n",
       "       'ร้านกํ้ากึ่ง'], dtype=object)"
      ]
     },
     "execution_count": 12,
     "metadata": {},
     "output_type": "execute_result"
    }
   ],
   "source": [
    "patients['อาศัยอยู่หรือเดินทางมาจากพื้นที่ระบาด (Resided in or returned from the area affected by the out breaks)'].unique()"
   ]
  },
  {
   "cell_type": "code",
   "execution_count": 13,
   "metadata": {},
   "outputs": [
    {
     "data": {
      "text/plain": [
       "array(['2020-02-07T00:00:00.000000000', '2020-02-10T00:00:00.000000000',\n",
       "       '2020-02-24T00:00:00.000000000', '2020-02-19T00:00:00.000000000',\n",
       "       '2020-02-23T00:00:00.000000000', '2020-02-16T00:00:00.000000000',\n",
       "       '2020-02-25T00:00:00.000000000', '2020-02-17T00:00:00.000000000',\n",
       "       '2020-03-23T00:00:00.000000000', '2020-02-22T00:00:00.000000000',\n",
       "       '2020-02-15T00:00:00.000000000', '2020-02-18T00:00:00.000000000',\n",
       "       '2020-02-21T00:00:00.000000000', '2020-02-12T00:00:00.000000000',\n",
       "       '2020-02-20T00:00:00.000000000', '2020-02-29T00:00:00.000000000',\n",
       "       '2020-01-27T00:00:00.000000000', '2020-02-14T00:00:00.000000000',\n",
       "       '2020-02-02T00:00:00.000000000', '2020-02-27T00:00:00.000000000',\n",
       "       '2020-02-26T00:00:00.000000000', '2020-02-28T00:00:00.000000000',\n",
       "       '2020-01-03T00:00:00.000000000', '2020-01-25T00:00:00.000000000',\n",
       "       '2020-01-17T00:00:00.000000000', '2020-01-24T00:00:00.000000000',\n",
       "       '2020-01-26T00:00:00.000000000', '2020-01-01T00:00:00.000000000',\n",
       "       '2020-03-01T00:00:00.000000000', '2020-01-06T00:00:00.000000000',\n",
       "       '2020-12-02T00:00:00.000000000', '2020-03-08T00:00:00.000000000',\n",
       "       '2020-03-02T00:00:00.000000000', '2020-01-08T00:00:00.000000000',\n",
       "       '2020-03-03T00:00:00.000000000', '2020-01-07T00:00:00.000000000',\n",
       "       '2020-03-04T00:00:00.000000000', '2020-04-03T00:00:00.000000000',\n",
       "       '2020-03-05T00:00:00.000000000', '2020-05-03T00:00:00.000000000',\n",
       "       '2020-03-06T00:00:00.000000000', '2020-06-03T00:00:00.000000000',\n",
       "       '2020-03-07T00:00:00.000000000', '2020-03-11T00:00:00.000000000',\n",
       "       '2020-08-03T00:00:00.000000000', '2020-03-09T00:00:00.000000000',\n",
       "       '2020-03-12T00:00:00.000000000', '2020-03-13T00:00:00.000000000',\n",
       "       '2020-01-22T00:00:00.000000000', '2020-12-03T00:00:00.000000000',\n",
       "       '2020-03-16T00:00:00.000000000', '2020-11-03T00:00:00.000000000',\n",
       "       '2019-12-04T00:00:00.000000000', '2020-03-15T00:00:00.000000000',\n",
       "                                 'NaT'], dtype='datetime64[ns]')"
      ]
     },
     "execution_count": 13,
     "metadata": {},
     "output_type": "execute_result"
    }
   ],
   "source": [
    "patients['เดินทางเข้าประเทศเมื่อวันที่ (Entered Thailand on) หากไม่ได้มีประวัติการเดินทางให้ลงวันที่สัมผัสใกล้ชิดผู้เข้าข่ายหรือยืนยันโรคติดเชื้อ'].unique()"
   ]
  },
  {
   "cell_type": "markdown",
   "metadata": {},
   "source": [
    "## Graph Database"
   ]
  },
  {
   "cell_type": "code",
   "execution_count": 15,
   "metadata": {},
   "outputs": [],
   "source": [
    "from py2neo import Graph, Node\n",
    "graph = Graph(\"bolt://localhost:7687\", user='neo4j', password='1234')"
   ]
  },
  {
   "cell_type": "code",
   "execution_count": 16,
   "metadata": {},
   "outputs": [],
   "source": [
    "graph.delete_all()"
   ]
  },
  {
   "cell_type": "code",
   "execution_count": 17,
   "metadata": {},
   "outputs": [],
   "source": [
    "LEVEL_NAME = {0:'Healthy', 1:'Low Risk', 2:'High Risk', 3:'PUI'}"
   ]
  },
  {
   "cell_type": "markdown",
   "metadata": {},
   "source": [
    "## Add Person Nodes"
   ]
  },
  {
   "cell_type": "code",
   "execution_count": 18,
   "metadata": {},
   "outputs": [
    {
     "name": "stdout",
     "output_type": "stream",
     "text": [
      "455 2\n",
      "457 2\n",
      "462 2\n",
      "469 2\n",
      "488 2\n",
      "489 2\n",
      "496 2\n",
      "504 2\n",
      "505 2\n",
      "506 2\n",
      "508 2\n",
      "509 2\n",
      "510 2\n",
      "522 2\n",
      "523 2\n",
      "529 2\n",
      "543 2\n",
      "546 2\n",
      "549 2\n",
      "552 2\n",
      "554 2\n",
      "556 2\n",
      "559 2\n",
      "574 2\n",
      "575 2\n",
      "578 2\n",
      "594 2\n",
      "598 2\n",
      "602 2\n",
      "603 2\n",
      "608 2\n",
      "add  602  records\n"
     ]
    }
   ],
   "source": [
    "count = 0\n",
    "for index, row in patients.iterrows():\n",
    "    if row['ชื่อ-นามสกุล (Full name)']:\n",
    "        \n",
    "        # get patient level\n",
    "        level = (row['ปัจจุบันยังมีอาการผิดปกติอยู่หรือไม่ (Have you been getting symptoms recently?)'] == 'มี (Yes)') + (len(row['ปัจจัยเสี่ยงอื่น']) > 0)\n",
    "        \n",
    "        if level > 1:\n",
    "            print(index, level)\n",
    "        \n",
    "        p = Node(\"Person\", name=row['ชื่อ-นามสกุล (Full name)'], \n",
    "                 #level=LEVEL_NAME[level],\n",
    "                 sex=row['เพศ (Sex)'], \n",
    "                 age=row['อายุ (Age)'],\n",
    "                 tel=row['เบอร์โทรศัพท์ (Telephone no.)'], \n",
    "                 email=row['Email'],\n",
    "                 addr=row['ที่อยู่ปัจจุบันโปรดระบุ(Address)'], \n",
    "                 job=row['อาชีพ (Occupation)'],\n",
    "                 dep=row['คณะ/สังกัด(Faculty/Department)'],\n",
    "                 )\n",
    "        p.__primarylabel__ = \"Person\"\n",
    "        p.__primarykey__ = \"name\"\n",
    "        p.update_labels([\"Person\", LEVEL_NAME[level]])\n",
    "        graph.merge(p)\n",
    "        count += 1\n",
    "print('add ', count, ' records')"
   ]
  },
  {
   "cell_type": "code",
   "execution_count": 19,
   "metadata": {},
   "outputs": [
    {
     "name": "stdout",
     "output_type": "stream",
     "text": [
      "Total : 485 persons (including empty string)\n"
     ]
    }
   ],
   "source": [
    "print('Total :', len(patients['ชื่อ-นามสกุล (Full name)'].unique()), 'persons (including empty string)')"
   ]
  },
  {
   "cell_type": "markdown",
   "metadata": {},
   "source": [
    "## Add Place Node"
   ]
  },
  {
   "cell_type": "code",
   "execution_count": 20,
   "metadata": {},
   "outputs": [
    {
     "name": "stdout",
     "output_type": "stream",
     "text": [
      "add  58  places\n"
     ]
    }
   ],
   "source": [
    "count = 0\n",
    "for place in patients['อาศัยอยู่หรือเดินทางมาจากพื้นที่ระบาด (Resided in or returned from the area affected by the out breaks)'].unique():\n",
    "    if place:\n",
    "        l = Node(\"Location\", name=place)\n",
    "        l.__primarylabel__ = \"Location\"\n",
    "        l.__primarykey__ = \"name\"\n",
    "        graph.merge(l)\n",
    "        count += 1\n",
    "print('add ', count, ' places')"
   ]
  },
  {
   "cell_type": "markdown",
   "metadata": {},
   "source": [
    "## Add Relationship"
   ]
  },
  {
   "cell_type": "code",
   "execution_count": 21,
   "metadata": {},
   "outputs": [],
   "source": [
    "def get_end_of_day(d):\n",
    "    return d.replace(hour=23, minute=59, second=59)"
   ]
  },
  {
   "cell_type": "code",
   "execution_count": 22,
   "metadata": {},
   "outputs": [
    {
     "name": "stdout",
     "output_type": "stream",
     "text": [
      "add  420  relationships\n"
     ]
    }
   ],
   "source": [
    "count = 0\n",
    "for index, row in patients.iterrows():\n",
    "    if row['ชื่อ-นามสกุล (Full name)']:\n",
    "        # get patient level\n",
    "        level = (row['ปัจจุบันยังมีอาการผิดปกติอยู่หรือไม่ (Have you been getting symptoms recently?)'] == 'มี (Yes)') + (len(row['ปัจจัยเสี่ยงอื่น']) > 0)\n",
    "            \n",
    "        p = Node(\"Person\", name=row['ชื่อ-นามสกุล (Full name)'])\n",
    "        p.__primarylabel__ = \"Person\"\n",
    "        p.__primarykey__ = \"name\"\n",
    "        p.update_labels([\"Person\", LEVEL_NAME[level]])\n",
    "        \n",
    "        \n",
    "        place = row['อาศัยอยู่หรือเดินทางมาจากพื้นที่ระบาด (Resided in or returned from the area affected by the out breaks)']\n",
    "        if place:\n",
    "            l = Node(\"Location\", name=place)\n",
    "            l.__primarylabel__ = \"Location\"\n",
    "            l.__primarykey__ = \"name\"\n",
    "            \n",
    "            travel_time = row['เดินทางเข้าประเทศเมื่อวันที่ (Entered Thailand on) หากไม่ได้มีประวัติการเดินทางให้ลงวันที่สัมผัสใกล้ชิดผู้เข้าข่ายหรือยืนยันโรคติดเชื้อ']\n",
    "            if not pd.isnull(travel_time):\n",
    "                graph.merge(Relationship( p, \"WENT_TO\", l, start=str(travel_time), end=str(get_end_of_day(travel_time)) ))\n",
    "                count += 1\n",
    "\n",
    "print('add ', count, ' relationships')"
   ]
  },
  {
   "cell_type": "markdown",
   "metadata": {},
   "source": [
    "## Show Graph Data"
   ]
  },
  {
   "cell_type": "code",
   "execution_count": 23,
   "metadata": {},
   "outputs": [],
   "source": [
    "from scripts.vis import draw, vis_network\n",
    "\n",
    "options = {\"Person\": \"name\", \"Drink\": \"name\", \"Manufacturer\": \"name\"}\n",
    "# draw(graph, options)"
   ]
  },
  {
   "cell_type": "code",
   "execution_count": 24,
   "metadata": {},
   "outputs": [],
   "source": [
    "from py2neo import Graph\n",
    "graph = Graph(\"bolt://localhost:7687\", user='neo4j', password='1234')"
   ]
  },
  {
   "cell_type": "code",
   "execution_count": 25,
   "metadata": {},
   "outputs": [
    {
     "data": {
      "text/plain": [
       "<py2neo.database.Cursor at 0x7f44f536d278>"
      ]
     },
     "execution_count": 25,
     "metadata": {},
     "output_type": "execute_result"
    }
   ],
   "source": [
    "query = \"\"\"\n",
    "MATCH (p:Person)\n",
    "OPTIONAL MATCH (p)-[a]->(m)\n",
    "RETURN  p,\n",
    "        id(p) as p_id,\n",
    "        a, \n",
    "        m,\n",
    "        id(m) as m_id;\n",
    "\"\"\"\n",
    "\n",
    "data = graph.run(query)\n",
    "data"
   ]
  },
  {
   "cell_type": "code",
   "execution_count": 26,
   "metadata": {},
   "outputs": [],
   "source": [
    "def get_node_info(node, node_id):\n",
    "    gr = ''.join(str(node.labels).replace('`', '').replace(' ', '').split(':'))\n",
    "    if 'Location' in gr:\n",
    "        return {\"id\": node_id, \"label\": node['name'], \"group\": gr, \"title\": repr(node['name'])}\n",
    "    else:\n",
    "        return {\"id\": node_id, \"label\": str(node_id), \"group\": gr, \"title\": str(node_id)}"
   ]
  },
  {
   "cell_type": "code",
   "execution_count": 27,
   "metadata": {},
   "outputs": [
    {
     "data": {
      "text/html": [
       "\n",
       "        <iframe\n",
       "            width=\"100%\"\n",
       "            height=\"800\"\n",
       "            src=\"figure/graph-ef547def-00bd-4b61-9629-ed66bc84123b.html\"\n",
       "            frameborder=\"0\"\n",
       "            allowfullscreen\n",
       "        ></iframe>\n",
       "        "
      ],
      "text/plain": [
       "<IPython.lib.display.IFrame at 0x7f44f3338f28>"
      ]
     },
     "execution_count": 27,
     "metadata": {},
     "output_type": "execute_result"
    }
   ],
   "source": [
    "data = graph.run(query)\n",
    "\n",
    "nodes = []\n",
    "edges = []\n",
    "physics = True\n",
    "\n",
    "for row in data:\n",
    "    p = row[0]\n",
    "    p_id = row[1]\n",
    "    a = row[2]\n",
    "    m = row[3]\n",
    "    m_id = row[4]\n",
    "    \n",
    "    p_info = get_node_info(p, p_id)\n",
    "    \n",
    "    if p_info not in nodes:\n",
    "        nodes.append(p_info)\n",
    "         \n",
    "    if m:\n",
    "        m_info = get_node_info(m, m_id)\n",
    "        if m_info not in nodes:\n",
    "            nodes.append(m_info)\n",
    "\n",
    "        edges.append({\"from\": p_info[\"id\"], \"to\": m_info[\"id\"], \"label\": type(a).__name__ })\n",
    "    \n",
    "a = vis_network(nodes, edges, physics=physics)\n",
    "a\n",
    "    "
   ]
  }
 ],
 "metadata": {
  "kernelspec": {
   "display_name": "covid-19",
   "language": "python",
   "name": "covid-19"
  },
  "language_info": {
   "codemirror_mode": {
    "name": "ipython",
    "version": 3
   },
   "file_extension": ".py",
   "mimetype": "text/x-python",
   "name": "python",
   "nbconvert_exporter": "python",
   "pygments_lexer": "ipython3",
   "version": "3.7.0"
  }
 },
 "nbformat": 4,
 "nbformat_minor": 4
}
