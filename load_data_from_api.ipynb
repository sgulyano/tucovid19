{
 "cells": [
  {
   "cell_type": "markdown",
   "metadata": {},
   "source": [
    "## Load Data"
   ]
  },
  {
   "cell_type": "code",
   "execution_count": 1,
   "metadata": {},
   "outputs": [],
   "source": [
    "import json\n",
    "\n",
    "with open('user.json', 'r') as f:\n",
    "    json_user = json.load(f)\n",
    "\n",
    "with open('Daily.json', 'r') as f:\n",
    "    json_daily = json.load(f)"
   ]
  },
  {
   "cell_type": "code",
   "execution_count": 2,
   "metadata": {},
   "outputs": [
    {
     "data": {
      "text/plain": [
       "Index(['displayNameTh', 'Username', 'Email', 'Type', 'Age', 'OrgCompany',\n",
       "       'LineID', 'EmpType', 'Phone', 'Gender', 'Blood', 'MedicalStaff',\n",
       "       'BloodResults', 'Home', 'Provice'],\n",
       "      dtype='object')"
      ]
     },
     "execution_count": 2,
     "metadata": {},
     "output_type": "execute_result"
    }
   ],
   "source": [
    "import pandas as pd\n",
    "patients = pd.DataFrame(json_user['data'], dtype='object')\n",
    "patients.columns"
   ]
  },
  {
   "cell_type": "code",
   "execution_count": 3,
   "metadata": {},
   "outputs": [
    {
     "data": {
      "text/plain": [
       "array(['employee', 'student'], dtype=object)"
      ]
     },
     "execution_count": 3,
     "metadata": {},
     "output_type": "execute_result"
    }
   ],
   "source": [
    "patients['Type'].unique()"
   ]
  },
  {
   "cell_type": "code",
   "execution_count": 4,
   "metadata": {},
   "outputs": [
    {
     "data": {
      "text/plain": [
       "array(['ไม่ได้เป็นบุคลากรทางการแพทย์', None, 'บุคลากรทางการแพทย์'],\n",
       "      dtype=object)"
      ]
     },
     "execution_count": 4,
     "metadata": {},
     "output_type": "execute_result"
    }
   ],
   "source": [
    "patients['MedicalStaff'].unique()"
   ]
  },
  {
   "cell_type": "code",
   "execution_count": 5,
   "metadata": {},
   "outputs": [],
   "source": [
    "patients['IsMedStaff'] = patients['MedicalStaff'].apply(lambda x: x == 'บุคลากรทางการแพทย์')"
   ]
  },
  {
   "cell_type": "code",
   "execution_count": 6,
   "metadata": {},
   "outputs": [
    {
     "data": {
      "text/plain": [
       "displayNameTh    object\n",
       "Username         object\n",
       "Email            object\n",
       "Type             object\n",
       "Age              object\n",
       "OrgCompany       object\n",
       "LineID           object\n",
       "EmpType          object\n",
       "Phone            object\n",
       "Gender           object\n",
       "Blood            object\n",
       "MedicalStaff     object\n",
       "BloodResults     object\n",
       "Home             object\n",
       "Provice          object\n",
       "IsMedStaff         bool\n",
       "dtype: object"
      ]
     },
     "execution_count": 6,
     "metadata": {},
     "output_type": "execute_result"
    }
   ],
   "source": [
    "patients.dtypes"
   ]
  },
  {
   "cell_type": "code",
   "execution_count": 7,
   "metadata": {},
   "outputs": [
    {
     "data": {
      "text/plain": [
       "array(['ไม่เคย', None, '', 'ผลเลือดเป็นบวก (+)'], dtype=object)"
      ]
     },
     "execution_count": 7,
     "metadata": {},
     "output_type": "execute_result"
    }
   ],
   "source": [
    "patients['BloodResults'].unique()"
   ]
  },
  {
   "cell_type": "code",
   "execution_count": 8,
   "metadata": {},
   "outputs": [
    {
     "data": {
      "text/plain": [
       "(1083, 16)"
      ]
     },
     "execution_count": 8,
     "metadata": {},
     "output_type": "execute_result"
    }
   ],
   "source": [
    "patients.shape"
   ]
  },
  {
   "cell_type": "code",
   "execution_count": 9,
   "metadata": {},
   "outputs": [
    {
     "data": {
      "text/plain": [
       "(1083,)"
      ]
     },
     "execution_count": 9,
     "metadata": {},
     "output_type": "execute_result"
    }
   ],
   "source": [
    "patients['Username'].unique().shape"
   ]
  },
  {
   "cell_type": "code",
   "execution_count": 10,
   "metadata": {},
   "outputs": [
    {
     "data": {
      "text/plain": [
       "Index(['formSaveDaily1', 'formSaveDaily2', 'formSaveDaily2Other',\n",
       "       'formSaveDaily3', 'formSaveDaily4', 'formSaveDaily5', 'Temperature',\n",
       "       'LineID', 'displayNameTh', 'displayNameEn', 'Username', 'Email', 'Type',\n",
       "       'birthdate', 'Age', 'Department', 'OrgCompany', 'Phone', 'Gender',\n",
       "       'Blood', 'MedicalStaff', 'BloodResults', 'Home', 'COLOR',\n",
       "       'Create_date'],\n",
       "      dtype='object')"
      ]
     },
     "execution_count": 10,
     "metadata": {},
     "output_type": "execute_result"
    }
   ],
   "source": [
    "dailyforms = pd.DataFrame(json_daily['data'])\n",
    "dailyforms.columns"
   ]
  },
  {
   "cell_type": "code",
   "execution_count": 11,
   "metadata": {},
   "outputs": [
    {
     "data": {
      "text/plain": [
       "(389, 25)"
      ]
     },
     "execution_count": 11,
     "metadata": {},
     "output_type": "execute_result"
    }
   ],
   "source": [
    "dailyforms.shape"
   ]
  },
  {
   "cell_type": "code",
   "execution_count": 12,
   "metadata": {},
   "outputs": [
    {
     "data": {
      "text/plain": [
       "array(['สีเขียว', 'สีเหลือง', 'สีแดง', 'สีส้ม', 'สีน้ำเงิน'], dtype=object)"
      ]
     },
     "execution_count": 12,
     "metadata": {},
     "output_type": "execute_result"
    }
   ],
   "source": [
    "dailyforms['COLOR'].unique()"
   ]
  },
  {
   "cell_type": "markdown",
   "metadata": {},
   "source": [
    "## Convert to Graph Database"
   ]
  },
  {
   "cell_type": "code",
   "execution_count": 13,
   "metadata": {},
   "outputs": [],
   "source": [
    "from neo4j import GraphDatabase, exceptions\n",
    "\n",
    "uri = \"bolt://localhost:7687\"\n",
    "driver = GraphDatabase.driver(uri, auth=(\"neo4j\", \"1234\"), encrypted=False)"
   ]
  },
  {
   "cell_type": "code",
   "execution_count": 14,
   "metadata": {},
   "outputs": [],
   "source": [
    "with driver.session() as session:\n",
    "    session.run(\"MATCH (n) DETACH DELETE n;\")\n",
    "    session.run(\"\"\"CREATE CONSTRAINT unique_username\n",
    "                   ON (n:Person) \n",
    "                   ASSERT n.username IS UNIQUE\"\"\")"
   ]
  },
  {
   "cell_type": "markdown",
   "metadata": {},
   "source": [
    "ให้โยนข้อมูลใส่ SQL ก่อนแล้วค่อยสร้าง Graph Database โดยส่งเฉพาะข้อมูลที่จำเป็น (เปิดเผยได้ เพราะ กราฟจะเปิด public) พร้อม id เพื่อให้สามารถ link กลับไปหาข้อมูลใน SQL ได้"
   ]
  },
  {
   "cell_type": "code",
   "execution_count": 15,
   "metadata": {},
   "outputs": [],
   "source": [
    "def create_person(driver, index, param):\n",
    "    param[\"id\"] = index\n",
    "    try:\n",
    "        with driver.session() as session:\n",
    "            return session.run(\"\"\"CREATE (a:Person {id:$id,\n",
    "                                                    name:$Username, \n",
    "                                                    type:$Type,\n",
    "                                                    age:$Age,\n",
    "                                                    org:$OrgCompany,\n",
    "                                                    emptype:$EmpType,\n",
    "                                                    gender:$Gender,\n",
    "                                                    blood:$Blood,\n",
    "                                                    ismedstaff:$IsMedStaff,\n",
    "                                                    bloodres:$BloodResults,\n",
    "                                                    home:$Home,\n",
    "                                                    province:$Provice\n",
    "                                                   })\"\"\", param)\n",
    "    except exceptions.ConstraintError:\n",
    "        print('Node exists')\n",
    "        return None"
   ]
  },
  {
   "cell_type": "code",
   "execution_count": 16,
   "metadata": {},
   "outputs": [],
   "source": [
    "for index, row in patients.iterrows():\n",
    "    create_person(driver, index, row.to_dict())"
   ]
  },
  {
   "cell_type": "code",
   "execution_count": 17,
   "metadata": {},
   "outputs": [],
   "source": [
    "from datetime import datetime, timedelta\n",
    "def convert_str_date(s):\n",
    "    return datetime.strptime(s, '%Y-%m-%d')\n",
    "\n",
    "COLOR_MAP = {'สีเขียว':0, 'สีเหลือง':1, 'สีแดง':4, 'สีส้ม':3, 'สีน้ำเงิน':2, 'สีม่วง':5}\n",
    "COLOR_MAP_TH_ENG = {'สีเขียว':'Green', 'สีเหลือง':'Yellow', 'สีแดง':'Red', 'สีส้ม':'Orange', 'สีน้ำเงิน':'Blue', 'สีม่วง':'Purple'}"
   ]
  },
  {
   "cell_type": "code",
   "execution_count": 18,
   "metadata": {},
   "outputs": [],
   "source": [
    "def update_color(driver, param, DATE_THR=timedelta(days=14)):\n",
    "    with driver.session() as session:\n",
    "        tx = session.begin_transaction()\n",
    "        rec = tx.run(\"MATCH (a:Person {name:$Username } ) \"\n",
    "                    \"RETURN id(a), a.name, a.color, a.color_date\", param).single()\n",
    "        if rec:\n",
    "            needUpdate = True\n",
    "            if rec['a.color'] and rec['a.color_date']:    \n",
    "                # if new value has higher color level\n",
    "                if (COLOR_MAP[rec['a.color']] < COLOR_MAP[param['COLOR']]):\n",
    "                    # check if new value create date is less than threshold\n",
    "                    if datetime.now() - convert_str_date(param['Create_date']) < DATE_THR:\n",
    "                        needUpdate = True;\n",
    "                    else:\n",
    "                        needUpdate = False\n",
    "                # to reduce level, must pass date threshold and new date is greater\n",
    "                elif (COLOR_MAP[rec['a.color']] > COLOR_MAP[param['COLOR']]):\n",
    "                    if datetime.now() - convert_str_date(rec['a.color_date']) > DATE_THR and \\\n",
    "                            convert_str_date(rec['a.color_date']) < convert_str_date(param['Create_date']):\n",
    "                        needUpdate = True;\n",
    "                    else:\n",
    "                        needUpdate = False\n",
    "                # if equal level, keep the lowest date\n",
    "                else:\n",
    "                    if convert_str_date(rec['a.color_date']) > convert_str_date(param['Create_date']):\n",
    "                        needUpdate = True;\n",
    "                    else:\n",
    "                        needUpdate = False\n",
    "                \n",
    "                if needUpdate:\n",
    "                    print(f\"{rec['id(a)']} update {rec['a.color']:10s} --> {param['COLOR']}\")\n",
    "                    print('\\t', rec['a.color_date'], ' \\t   \\t', param['Create_date'])\n",
    "                \n",
    "            if needUpdate:\n",
    "                tx.run(\"MATCH (a:Person {name:$Username } ) \"\n",
    "                       \"SET a.color = $COLOR, a.color_date = $Create_date \", param)             \n",
    "        else:\n",
    "            print('No Node with the Name')\n",
    "        tx.commit()\n",
    "        return rec"
   ]
  },
  {
   "cell_type": "code",
   "execution_count": 19,
   "metadata": {},
   "outputs": [
    {
     "name": "stdout",
     "output_type": "stream",
     "text": [
      "224 update สีเขียว    --> สีเหลือง\n",
      "\t 2020-03-26  \t   \t 2020-03-26\n",
      "230 update สีเขียว    --> สีเหลือง\n",
      "\t 2020-03-23  \t   \t 2020-03-25\n",
      "580 update สีเขียว    --> สีเหลือง\n",
      "\t 2020-03-23  \t   \t 2020-03-25\n",
      "651 update สีเขียว    --> สีเหลือง\n",
      "\t 2020-03-23  \t   \t 2020-03-24\n",
      "685 update สีเหลือง   --> สีส้ม\n",
      "\t 2020-03-23  \t   \t 2020-03-26\n",
      "685 update สีส้ม      --> สีแดง\n",
      "\t 2020-03-26  \t   \t 2020-03-26\n",
      "686 update สีเขียว    --> สีเหลือง\n",
      "\t 2020-03-23  \t   \t 2020-03-24\n",
      "695 update สีเขียว    --> สีเหลือง\n",
      "\t 2020-03-24  \t   \t 2020-03-24\n",
      "1929 update สีเหลือง   --> สีแดง\n",
      "\t 2020-03-24  \t   \t 2020-03-26\n",
      "214 update สีเขียว    --> สีเหลือง\n",
      "\t 2020-03-27  \t   \t 2020-03-27\n"
     ]
    }
   ],
   "source": [
    "for index, row in dailyforms.iterrows():\n",
    "    update_color(driver, row.to_dict())"
   ]
  },
  {
   "cell_type": "markdown",
   "metadata": {},
   "source": [
    "## Convert Graph to JSON"
   ]
  },
  {
   "cell_type": "code",
   "execution_count": 20,
   "metadata": {},
   "outputs": [],
   "source": [
    "def get_node_info(node, gr):\n",
    "    if 'Location' in gr:\n",
    "        return {\"id\": node['id'], \n",
    "                \"group\": gr,\n",
    "                \"label\": node['name'], \n",
    "               }\n",
    "    elif 'Person' in gr:\n",
    "        return {\"id\": node['id'],\n",
    "                \"group\": gr, \n",
    "                \"label\": node['id'],\n",
    "                \"color\": node['color'],\n",
    "                \"type\" : node['type'],\n",
    "                \"age\" : node['age'],\n",
    "                \"org\" : node['org'],\n",
    "                \"emptype\" : node['emptype'],\n",
    "                \"gender\" : node['gender'],\n",
    "                \"blood\" : node['blood'],\n",
    "                \"ismedstaff\" : node['ismedstaff'],\n",
    "                \"bloodres\" : node['bloodres'],\n",
    "                \"province\" : node['province']\n",
    "               }\n",
    "    else:\n",
    "        raise Exceptions('Unknown Label')\n",
    "    \n",
    "    \n",
    "\n",
    "def get_edge_info(edge, p_info, m_info):\n",
    "    if edge.type == 'WENT_TO':\n",
    "        return {\"from\": p_info[\"id\"], \"to\": m_info[\"id\"], \"label\": edge.type, \"start\":edge[\"start\"], \"end\":edge[\"end\"]}\n",
    "    else:\n",
    "        return {\"from\": p_info[\"id\"], \"to\": m_info[\"id\"], \"label\": edge.type}"
   ]
  },
  {
   "cell_type": "code",
   "execution_count": 21,
   "metadata": {},
   "outputs": [
    {
     "name": "stdout",
     "output_type": "stream",
     "text": [
      "0\n",
      "18\n"
     ]
    }
   ],
   "source": [
    "with driver.session() as session:\n",
    "    result = session.run(\"\"\"MATCH (p:Person)\n",
    "                            OPTIONAL MATCH (p:Person)-[a]->(m)\n",
    "                            RETURN  p, labels(p), a, m, labels(m);\"\"\")\n",
    "\n",
    "print(result.summary().result_available_after)\n",
    "print(result.summary().result_consumed_after)\n",
    "    \n",
    "nodes = []\n",
    "edges = []\n",
    "physics = True\n",
    "\n",
    "for record in result:\n",
    "    p_info = get_node_info(record['p'], record['labels(p)'][0])\n",
    "    \n",
    "    if p_info not in nodes:\n",
    "        nodes.append(p_info)\n",
    "         \n",
    "    if record['m']:\n",
    "        m_info = get_node_info(record['m'], record['labels(m)'][0])\n",
    "        if m_info not in nodes:\n",
    "            nodes.append(m_info)\n",
    "\n",
    "        edges.append(get_edge_info(record['a'], p_info, m_info))"
   ]
  },
  {
   "cell_type": "code",
   "execution_count": 22,
   "metadata": {},
   "outputs": [],
   "source": [
    "import json\n",
    "# json.dumps({'nodes':nodes, 'edges':edges})\n",
    "with open('cc.json', 'w') as outfile:\n",
    "    json.dump({'nodes':nodes, 'edges':edges}, outfile)"
   ]
  }
 ],
 "metadata": {
  "kernelspec": {
   "display_name": "covid-19",
   "language": "python",
   "name": "covid-19"
  },
  "language_info": {
   "codemirror_mode": {
    "name": "ipython",
    "version": 3
   },
   "file_extension": ".py",
   "mimetype": "text/x-python",
   "name": "python",
   "nbconvert_exporter": "python",
   "pygments_lexer": "ipython3",
   "version": "3.7.0"
  }
 },
 "nbformat": 4,
 "nbformat_minor": 4
}
