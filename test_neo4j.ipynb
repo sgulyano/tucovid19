{
 "cells": [
  {
   "cell_type": "markdown",
   "metadata": {},
   "source": [
    "# Graph Database for Covid-19 in Thammasat University\n",
    "https://neo4j.com/developer/python/\n",
    "\n",
    "## Neo4j"
   ]
  },
  {
   "cell_type": "code",
   "execution_count": 1,
   "metadata": {},
   "outputs": [],
   "source": [
    "from neo4j import GraphDatabase\n",
    "\n",
    "uri = \"bolt://0.0.0.0:7687\"\n",
    "driver = GraphDatabase.driver(uri, auth=(\"neo4j\", \"1234\"), encrypted= False)\n",
    "\n",
    "# def print_friends_of(tx, name):\n",
    "#     for record in tx.run(\"MATCH (a:Person)-[:KNOWS]->(f) \"\n",
    "#                          \"WHERE a.name = {name} \"\n",
    "#                          \"RETURN f.name\", name=name):\n",
    "#         print(record[\"f.name\"])\n",
    "\n",
    "# with driver.session() as session:\n",
    "#     session.read_transaction(print_friends_of, \"Alice\")"
   ]
  },
  {
   "cell_type": "code",
   "execution_count": 2,
   "metadata": {},
   "outputs": [],
   "source": [
    "from neo4j import GraphDatabase\n",
    "\n",
    "class HelloWorldExample(object):\n",
    "\n",
    "    def __init__(self, uri, user, password):\n",
    "        self._driver = GraphDatabase.driver(uri, auth=(user, password), encrypted= False)\n",
    "\n",
    "    def close(self):\n",
    "        self._driver.close()\n",
    "\n",
    "    def print_greeting(self, message):\n",
    "        with self._driver.session() as session:\n",
    "            greeting = session.write_transaction(self._create_and_return_greeting, message)\n",
    "            print(greeting)\n",
    "\n",
    "    @staticmethod\n",
    "    def _create_and_return_greeting(tx, message):\n",
    "        result = tx.run(\"CREATE (a:Greeting) \"\n",
    "                        \"SET a.message = $message \"\n",
    "                        \"RETURN a.message + ', from node ' + id(a)\", message=message)\n",
    "        return result.single()[0]"
   ]
  },
  {
   "cell_type": "code",
   "execution_count": 3,
   "metadata": {},
   "outputs": [
    {
     "data": {
      "text/plain": [
       "<__main__.HelloWorldExample at 0x7fb478316fd0>"
      ]
     },
     "execution_count": 3,
     "metadata": {},
     "output_type": "execute_result"
    }
   ],
   "source": [
    "HelloWorldExample(\"bolt://172.19.0.2:7687\", 'neo4j', '1234')"
   ]
  },
  {
   "cell_type": "code",
   "execution_count": 4,
   "metadata": {},
   "outputs": [],
   "source": [
    "from py2neo import Graph\n",
    "graph = Graph(\"bolt://localhost:7687\", user='neo4j', password='1234')\n",
    "\n",
    "# tx = graph.begin()\n",
    "# for name in [\"Alice\", \"Bob\", \"Carol\"]:\n",
    "#     tx.append(\"CREATE (person:Person {name:{name}}) RETURN person\", name=name)\n",
    "# alice, bob, carol = [result.one for result in tx.commit()]"
   ]
  },
  {
   "cell_type": "code",
   "execution_count": 5,
   "metadata": {},
   "outputs": [
    {
     "name": "stdout",
     "output_type": "stream",
     "text": [
      "<Record patient=(_21:Person {lvl: 'Low', name: '\\u0e14\\u0e0d \\u0e41\\u0e1b\\u0e49\\u0e19'}) m=(_23:Place {location: 'Lazy Fat Cat'}) risk=(_19:Person {lvl: 'High', name: '\\u0e14\\u0e0a \\u0e1b\\u0e49\\u0e2d\\u0e07'})>\n"
     ]
    }
   ],
   "source": [
    "query = \"\"\"\n",
    "MATCH (patient:Person {name:\"ดญ แป้น\"})-[:WENT_TO]->(m)<-[:WENT_TO]-(risk:Person)\n",
    "RETURN patient, m, risk\n",
    "\"\"\"\n",
    "\n",
    "data = graph.run(query)\n",
    "\n",
    "for d in data:\n",
    "    print(d)"
   ]
  },
  {
   "cell_type": "code",
   "execution_count": 6,
   "metadata": {},
   "outputs": [],
   "source": [
    "d['m']['localtion']"
   ]
  },
  {
   "cell_type": "code",
   "execution_count": 7,
   "metadata": {},
   "outputs": [
    {
     "data": {
      "text/html": [
       "<div id=\"graph-b255c0a7-658d-4307-918f-200a4dfc5677\"></div>\n",
       "           <script type=\"text/javascript\">\n",
       "           require.config({baseUrl: '/',\n",
       "                             paths: {jgraph: ['nbextensions/jgraph.min', 'https://rawgit.com/patrickfuller/jgraph/master/js/build/jgraph.min']}});\n",
       "           require(['jgraph'], function () {\n",
       "               var $d = $('#graph-b255c0a7-658d-4307-918f-200a4dfc5677');\n",
       "               $d.width(600); $d.height(400);\n",
       "               $d.jgraph = jQuery.extend({}, jgraph);\n",
       "               $d.jgraph.create($d, {nodeSize: 2.000000,\n",
       "                                     edgeSize: 0.250000,\n",
       "                                     defaultNodeColor: '0x5bc0de',\n",
       "                                     defaultEdgeColor: '0xaaaaaa',\n",
       "                                     shader: 'basic',\n",
       "                                     z: 100,\n",
       "                                     runOptimization: true,\n",
       "                                     directed: true,\n",
       "                                     showSave: false});\n",
       "               $d.jgraph.draw({\n",
       "    \"edges\": [\n",
       "        { \"source\": 1, \"target\": 2 },\n",
       "        { \"source\": 2, \"target\": 3 },\n",
       "        { \"source\": 3, \"target\": 4 },\n",
       "        { \"source\": 4, \"target\": 1 },\n",
       "        { \"source\": 4, \"target\": 5 },\n",
       "        { \"source\": 5, \"target\": 2 }\n",
       "    ],\n",
       "    \"nodes\": {\n",
       "        \"1\": { \"location\": [ -2.0, -2.0, -2.0 ] },\n",
       "        \"2\": { \"location\": [ -1.1869434035115578, -1.1722829211787609, -1.0693796523030796 ] },\n",
       "        \"3\": { \"location\": [ 0.15827406705570193, 0.48150951894387944, 0.47903640815395404 ] },\n",
       "        \"4\": { \"location\": [ 0.9835477726422392, 1.0581407048016398, 1.1667503324328568 ] },\n",
       "        \"5\": { \"location\": [ 2.0, 1.8150954138993374, 2.0 ] }\n",
       "    }\n",
       "});\n",
       "\n",
       "               $d.resizable({\n",
       "                   aspectRatio: 600 / 400,\n",
       "                   resize: function (evt, ui) {\n",
       "                       $d.jgraph.renderer.setSize(ui.size.width,\n",
       "                                                  ui.size.height);\n",
       "                   }\n",
       "               });\n",
       "           });\n",
       "           </script>"
      ],
      "text/plain": [
       "<IPython.core.display.HTML object>"
      ]
     },
     "metadata": {},
     "output_type": "display_data"
    }
   ],
   "source": [
    "import jgraph\n",
    "\n",
    "jgraph.draw([(1, 2), (2, 3), (3, 4), (4, 1), (4, 5), (5, 2)])"
   ]
  },
  {
   "cell_type": "markdown",
   "metadata": {},
   "source": [
    "https://nicolewhite.github.io/neo4j-jupyter/hello-world.html\n",
    "http://patrickfuller.github.io/jgraph/examples/ipython.html"
   ]
  },
  {
   "cell_type": "code",
   "execution_count": 8,
   "metadata": {},
   "outputs": [
    {
     "data": {
      "text/html": [
       "<div id=\"graph-2429990a-5fc0-4609-88e2-2385aba2a52f\"></div>\n",
       "           <script type=\"text/javascript\">\n",
       "           require.config({baseUrl: '/',\n",
       "                             paths: {jgraph: ['nbextensions/jgraph.min', 'https://rawgit.com/patrickfuller/jgraph/master/js/build/jgraph.min']}});\n",
       "           require(['jgraph'], function () {\n",
       "               var $d = $('#graph-2429990a-5fc0-4609-88e2-2385aba2a52f');\n",
       "               $d.width(600); $d.height(400);\n",
       "               $d.jgraph = jQuery.extend({}, jgraph);\n",
       "               $d.jgraph.create($d, {nodeSize: 2.000000,\n",
       "                                     edgeSize: 0.250000,\n",
       "                                     defaultNodeColor: '0x5bc0de',\n",
       "                                     defaultEdgeColor: '0xaaaaaa',\n",
       "                                     shader: 'basic',\n",
       "                                     z: 100,\n",
       "                                     runOptimization: true,\n",
       "                                     directed: true,\n",
       "                                     showSave: false});\n",
       "               $d.jgraph.draw({\n",
       "    \"edges\": [\n",
       "        { \"source\": \"chandler\", \"target\": \"ross\" },\n",
       "        { \"source\": \"monica\", \"target\": \"ross\" },\n",
       "        { \"color\": \"0xffaaaa\", \"size\": 3, \"source\": \"ross\", \"target\": \"rachel\" },\n",
       "        { \"source\": \"ross\", \"target\": \"joey\" },\n",
       "        { \"source\": \"ross\", \"target\": \"phoebe\" },\n",
       "        { \"source\": \"ross\", \"target\": \"judy\" },\n",
       "        { \"source\": \"monica\", \"target\": \"rachel\" },\n",
       "        { \"source\": \"rachel\", \"target\": \"jack\" },\n",
       "        { \"source\": \"chandler\", \"target\": \"phoebe\" }\n",
       "    ],\n",
       "    \"nodes\": {\n",
       "        \"chandler\": { \"color\": \"0x2222ff\", \"size\": 1.25 },\n",
       "        \"jack\": {},\n",
       "        \"joey\": { \"size\": 0.5 },\n",
       "        \"judy\": {},\n",
       "        \"monica\": {},\n",
       "        \"phoebe\": { \"color\": \"0x22ff22\" },\n",
       "        \"rachel\": {},\n",
       "        \"ross\": { \"color\": \"0xffaaaa\", \"size\": 2.0 }\n",
       "    }\n",
       "});\n",
       "\n",
       "               $d.resizable({\n",
       "                   aspectRatio: 600 / 400,\n",
       "                   resize: function (evt, ui) {\n",
       "                       $d.jgraph.renderer.setSize(ui.size.width,\n",
       "                                                  ui.size.height);\n",
       "                   }\n",
       "               });\n",
       "           });\n",
       "           </script>"
      ],
      "text/plain": [
       "<IPython.core.display.HTML object>"
      ]
     },
     "metadata": {},
     "output_type": "display_data"
    }
   ],
   "source": [
    "graph = {\n",
    "    'nodes': {\n",
    "        'ross': {'color': 0xffaaaa, 'size': 2.0},\n",
    "        'joey': {'size': 0.5},\n",
    "        'chandler': {'color': 0x2222ff, 'size': 1.25},\n",
    "        'phoebe': {'color': 0x22ff22},\n",
    "        'rachel': {},\n",
    "        'monica': {},\n",
    "        'jack': {},\n",
    "        'judy': {},\n",
    "    },\n",
    "    'edges': [\n",
    "        {'source': 'chandler', 'target': 'ross'},\n",
    "        {'source': 'monica', 'target': 'ross'},\n",
    "        {'source': 'ross', 'target': 'rachel', 'size': 3, 'color': 0xffaaaa},\n",
    "        {'source': 'ross', 'target': 'joey'},\n",
    "        {'source': 'ross', 'target': 'phoebe'},\n",
    "        {'source': 'ross', 'target': 'judy'},\n",
    "        {'source': 'monica', 'target': 'rachel'},\n",
    "        {'source': 'rachel', 'target': 'jack'},\n",
    "        {'source': 'chandler', 'target': 'phoebe'}\n",
    "    ]\n",
    "}\n",
    "\n",
    "jgraph.draw(graph)"
   ]
  },
  {
   "cell_type": "markdown",
   "metadata": {},
   "source": [
    "## Using VIS in Jupyter Lab & Neo4J\n",
    "\n",
    "https://www.codementor.io/@isaib.cicourel/visjs-visualization-in-jupyter-notebook-phgb3fjv0"
   ]
  },
  {
   "cell_type": "code",
   "execution_count": 9,
   "metadata": {},
   "outputs": [],
   "source": [
    "from IPython.display import Image"
   ]
  },
  {
   "cell_type": "code",
   "execution_count": 10,
   "metadata": {},
   "outputs": [
    {
     "data": {
      "text/html": [
       "\n",
       "        <iframe\n",
       "            width=\"800\"\n",
       "            height=\"650\"\n",
       "            src=\"http://www.bbc.com\"\n",
       "            frameborder=\"0\"\n",
       "            allowfullscreen\n",
       "        ></iframe>\n",
       "        "
      ],
      "text/plain": [
       "<IPython.lib.display.IFrame at 0x7fb469370668>"
      ]
     },
     "execution_count": 10,
     "metadata": {},
     "output_type": "execute_result"
    }
   ],
   "source": [
    "from IPython.display import IFrame    \n",
    "IFrame('http://www.bbc.com', width=800, height=650)"
   ]
  },
  {
   "cell_type": "code",
   "execution_count": 11,
   "metadata": {},
   "outputs": [],
   "source": [
    "from scripts.vis import draw, vis_network\n",
    "\n",
    "options = {\"Person\": \"name\", \"Drink\": \"name\", \"Manufacturer\": \"name\"}\n",
    "# draw(graph, options)"
   ]
  },
  {
   "cell_type": "code",
   "execution_count": 12,
   "metadata": {},
   "outputs": [],
   "source": [
    "from py2neo import Graph\n",
    "graph = Graph(\"bolt://localhost:7687\", user='neo4j', password='1234')"
   ]
  },
  {
   "cell_type": "code",
   "execution_count": 13,
   "metadata": {},
   "outputs": [
    {
     "data": {
      "text/plain": [
       "<py2neo.database.Cursor at 0x7fb468ad6f28>"
      ]
     },
     "execution_count": 13,
     "metadata": {},
     "output_type": "execute_result"
    }
   ],
   "source": [
    "query = \"\"\"\n",
    "MATCH (patient:Person {name:\"ดช โย\"})-[a:WENT_TO]->(m)<-[b:WENT_TO]-(risk:Person)\n",
    "RETURN  patient, \n",
    "        id(patient) AS patient_id,\n",
    "        a, \n",
    "        m,\n",
    "        id(m) AS place_id,\n",
    "        b, \n",
    "        risk,\n",
    "        id(risk) AS risk_id\n",
    "\"\"\"\n",
    "# query = \"\"\"\n",
    "# MATCH (n)\n",
    "# RETURN n;\n",
    "# \"\"\"\n",
    "\n",
    "data = graph.run(query)\n",
    "data"
   ]
  },
  {
   "cell_type": "code",
   "execution_count": 14,
   "metadata": {},
   "outputs": [],
   "source": [
    "def get_person_info(node, node_id):\n",
    "    return {\"id\": node_id, \"label\": node['name'], \"group\": 'Person', \"title\": repr(node['name'])}\n",
    "\n",
    "def get_place_info(node, node_id):\n",
    "    return {\"id\": node_id, \"label\": node['location'], \"group\": 'Place', \"title\": repr(node['location'])}\n",
    "\n",
    "# person1_info = get_person_info(person1, person1_id)\n",
    "# person2_info = get_person_info(person2, person2_id)\n",
    "\n",
    "# place1_info = get_place_info(location, location_id)"
   ]
  },
  {
   "cell_type": "code",
   "execution_count": 15,
   "metadata": {},
   "outputs": [
    {
     "name": "stdout",
     "output_type": "stream",
     "text": [
      "<Record patient=(_18:Person {lvl: 'PUI', name: '\\u0e14\\u0e0a \\u0e42\\u0e22'}) patient_id=18 a=(ดช โย)-[:WENT_TO {from: '18/3/63', to: '19/3/63'}]->(_22) m=(_22:Place {location: 'TU'}) place_id=22 b=(ดช มด)-[:WENT_TO {from: '16/3/63', to: '19/3/63'}]->(_22) risk=(_20:Person {lvl: 'High', name: '\\u0e14\\u0e0a \\u0e21\\u0e14'}) risk_id=20>\n",
      "(_18:Person {lvl: 'PUI', name: '\\u0e14\\u0e0a \\u0e42\\u0e22'}) 18 (_22:Place {location: 'TU'}) 22 (_20:Person {lvl: 'High', name: '\\u0e14\\u0e0a \\u0e21\\u0e14'}) 20\n",
      "<Record patient=(_18:Person {lvl: 'PUI', name: '\\u0e14\\u0e0a \\u0e42\\u0e22'}) patient_id=18 a=(ดช โย)-[:WENT_TO {from: '18/3/63', to: '19/3/63'}]->(_22) m=(_22:Place {location: 'TU'}) place_id=22 b=(ดช ป้อง)-[:WENT_TO {from: '17/3/63', to: '19/3/63'}]->(_22) risk=(_19:Person {lvl: 'High', name: '\\u0e14\\u0e0a \\u0e1b\\u0e49\\u0e2d\\u0e07'}) risk_id=19>\n",
      "(_18:Person {lvl: 'PUI', name: '\\u0e14\\u0e0a \\u0e42\\u0e22'}) 18 (_22:Place {location: 'TU'}) 22 (_19:Person {lvl: 'High', name: '\\u0e14\\u0e0a \\u0e1b\\u0e49\\u0e2d\\u0e07'}) 19\n"
     ]
    },
    {
     "data": {
      "text/html": [
       "\n",
       "        <iframe\n",
       "            width=\"100%\"\n",
       "            height=\"400\"\n",
       "            src=\"figure/graph-7ce41d1c-fa97-4025-ab19-67b1c0b88a26.html\"\n",
       "            frameborder=\"0\"\n",
       "            allowfullscreen\n",
       "        ></iframe>\n",
       "        "
      ],
      "text/plain": [
       "<IPython.lib.display.IFrame at 0x7fb468a75d30>"
      ]
     },
     "execution_count": 15,
     "metadata": {},
     "output_type": "execute_result"
    }
   ],
   "source": [
    "nodes = []\n",
    "edges = []\n",
    "physics = False\n",
    "\n",
    "for row in data:\n",
    "    print(row)\n",
    "    person1 = row[0]\n",
    "    person1_id = row[1]\n",
    "    location = row[3]\n",
    "    location_id = row[4]\n",
    "    person2 = row[6]\n",
    "    person2_id = row[7]\n",
    "    print(person1, person1_id, location, location_id, person2, person2_id)\n",
    "    \n",
    "    \n",
    "    person1_info = get_person_info(person1, person1_id)\n",
    "    person2_info = get_person_info(person2, person2_id)\n",
    "\n",
    "    place1_info = get_place_info(location, location_id)\n",
    "    \n",
    "    if person1_info not in nodes:\n",
    "        nodes.append(person1_info)\n",
    "    \n",
    "    if person2_info not in nodes:\n",
    "        nodes.append(person2_info)\n",
    "    \n",
    "    if place1_info not in nodes:\n",
    "        nodes.append(place1_info)\n",
    "\n",
    "    edges.append({\"from\": person1_info[\"id\"], \"to\": place1_info[\"id\"], \"label\": \"went_to\"})\n",
    "    edges.append({\"from\": person2_info[\"id\"], \"to\": place1_info[\"id\"], \"label\": \"went_to\"})\n",
    "\n",
    "a = vis_network(nodes, edges, physics=physics)\n",
    "a\n",
    "    "
   ]
  },
  {
   "cell_type": "code",
   "execution_count": 16,
   "metadata": {},
   "outputs": [
    {
     "data": {
      "text/plain": [
       "[{'id': 18, 'label': 'ดช โย', 'group': 'Person', 'title': \"'ดช โย'\"},\n",
       " {'id': 20, 'label': 'ดช มด', 'group': 'Person', 'title': \"'ดช มด'\"},\n",
       " {'id': 22, 'label': 'TU', 'group': 'Place', 'title': \"'TU'\"},\n",
       " {'id': 19, 'label': 'ดช ป้อง', 'group': 'Person', 'title': \"'ดช ป้อง'\"}]"
      ]
     },
     "execution_count": 16,
     "metadata": {},
     "output_type": "execute_result"
    }
   ],
   "source": [
    "nodes"
   ]
  },
  {
   "cell_type": "code",
   "execution_count": 17,
   "metadata": {},
   "outputs": [
    {
     "data": {
      "text/plain": [
       "'[{\"id\": 18, \"label\": \"\\\\u0e14\\\\u0e0a \\\\u0e42\\\\u0e22\", \"group\": \"Person\", \"title\": \"\\'\\\\u0e14\\\\u0e0a \\\\u0e42\\\\u0e22\\'\"}, {\"id\": 20, \"label\": \"\\\\u0e14\\\\u0e0a \\\\u0e21\\\\u0e14\", \"group\": \"Person\", \"title\": \"\\'\\\\u0e14\\\\u0e0a \\\\u0e21\\\\u0e14\\'\"}, {\"id\": 22, \"label\": \"TU\", \"group\": \"Place\", \"title\": \"\\'TU\\'\"}, {\"id\": 19, \"label\": \"\\\\u0e14\\\\u0e0a \\\\u0e1b\\\\u0e49\\\\u0e2d\\\\u0e07\", \"group\": \"Person\", \"title\": \"\\'\\\\u0e14\\\\u0e0a \\\\u0e1b\\\\u0e49\\\\u0e2d\\\\u0e07\\'\"}]'"
      ]
     },
     "execution_count": 17,
     "metadata": {},
     "output_type": "execute_result"
    }
   ],
   "source": [
    "import json\n",
    "json.dumps(nodes)"
   ]
  },
  {
   "cell_type": "code",
   "execution_count": 18,
   "metadata": {},
   "outputs": [
    {
     "data": {
      "text/plain": [
       "str"
      ]
     },
     "execution_count": 18,
     "metadata": {},
     "output_type": "execute_result"
    }
   ],
   "source": [
    "type(nodes[0]['group'])"
   ]
  },
  {
   "cell_type": "code",
   "execution_count": null,
   "metadata": {},
   "outputs": [],
   "source": []
  }
 ],
 "metadata": {
  "kernelspec": {
   "display_name": "covid-19",
   "language": "python",
   "name": "covid-19"
  },
  "language_info": {
   "codemirror_mode": {
    "name": "ipython",
    "version": 3
   },
   "file_extension": ".py",
   "mimetype": "text/x-python",
   "name": "python",
   "nbconvert_exporter": "python",
   "pygments_lexer": "ipython3",
   "version": "3.7.0"
  }
 },
 "nbformat": 4,
 "nbformat_minor": 4
}
