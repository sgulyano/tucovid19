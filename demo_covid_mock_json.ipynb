{
 "cells": [
  {
   "cell_type": "markdown",
   "metadata": {},
   "source": [
    "# Demo Covid-19 Timeline in Thammasat University\n",
    "\n",
    "โดยจะเก็บข้อมูล ผู้เสี่ยงติดโรคทุกระดับ (PUI, High Risk, Low Risk, Healthy) และสถานที่ที่กลุ่มคนเหล่านี้เคยไป รวมถึงวันเวลาด้วย\n",
    "\n",
    "### Technical Information\n",
    "ใช้ Neo4j ในการเก็บข้อมูลแบบ Graph Database (run `docker-compose up`) แล้วใช้ Python ดึงข้อมูลจาก Neo4j โดยใช้ Py2neo driver แล้วแสดงผลเป็นกราฟด้วย vis.js (file html อยู่ใน `./figure/`)"
   ]
  },
  {
   "cell_type": "markdown",
   "metadata": {},
   "source": [
    "## Insert Mock Data\n"
   ]
  },
  {
   "cell_type": "code",
   "execution_count": 58,
   "metadata": {},
   "outputs": [],
   "source": [
    "from py2neo import Graph\n",
    "graph = Graph(\"bolt://localhost:7687\", user='neo4j', password='1234')"
   ]
  },
  {
   "cell_type": "code",
   "execution_count": 59,
   "metadata": {},
   "outputs": [],
   "source": [
    "graph.delete_all()"
   ]
  },
  {
   "cell_type": "code",
   "execution_count": 60,
   "metadata": {},
   "outputs": [],
   "source": [
    "from py2neo import Node\n",
    "yo = Node(\"Person\", name=\"โย\", level='PUI')\n",
    "mod = Node(\"Person\", name=\"มด\", level='HighRisk')\n",
    "pong = Node(\"Person\", name=\"ป้อง\", level='HighRisk')\n",
    "pan = Node(\"Person\", name=\"แป้น\", level='LowRisk')\n",
    "am = Node(\"Person\", name=\"แอม\", level='Healthy')\n",
    "num = Node(\"Person\", name=\"น้ำ\", level='Healthy')\n",
    "day = Node(\"Person\", name=\"เดย์\", level='LowRisk')\n",
    "mui = Node(\"Person\", name=\"มุ้ย\", level='HighRisk')\n",
    "ann = Node(\"Person\", name=\"แอน\", level='LowRisk')\n",
    "tong = Node(\"Person\", name=\"โต้ง\", level='Healthy')\n",
    "\n",
    "tu = Node(\"Location\", name=\"TU\")\n",
    "lfc = Node(\"Location\", name=\"Lazy Fat Cat\")\n",
    "ai = Node(\"Location\", name=\"AI Lab\")\n",
    "cath = Node(\"Location\", name=\"Kitchen Cath\")\n",
    "airport = Node(\"Location\", name=\"Airport\")\n",
    "\n",
    "graph.create(yo | mod | pong | pan | am | num | day | mui | ann | tong | tu | lfc | ai | cath | airport)"
   ]
  },
  {
   "cell_type": "code",
   "execution_count": 61,
   "metadata": {},
   "outputs": [],
   "source": [
    "from py2neo import Relationship\n",
    "from datetime import datetime\n",
    "\n",
    "graph.create(Relationship(yo, \"WENT_TO\", tu, start=str(datetime(2020, 3, 17)), end=str(datetime(2020, 3, 19))))\n",
    "graph.create(Relationship(mod, \"WENT_TO\", tu, start=str(datetime(2020, 3, 16)), end=str(datetime(2020, 3, 19))))\n",
    "graph.create(Relationship(pong, \"WENT_TO\", tu, start=str(datetime(2020, 3, 17)), end=str(datetime(2020, 3, 18))))\n",
    "graph.create(Relationship(num, \"WENT_TO\", tu, start=str(datetime(2020, 3, 10)), end=str(datetime(2020, 3, 19))))\n",
    "graph.create(Relationship(am, \"WENT_TO\", tu, start=str(datetime(2020, 3, 9)), end=str(datetime(2020, 3, 18))))\n",
    "graph.create(Relationship(pan, \"WENT_TO\", lfc, start=str(datetime(2020, 3, 1)), end=str(datetime(2020, 3, 5))))\n",
    "graph.create(Relationship(pan, \"WENT_TO\", ai, start=str(datetime(2020, 3, 2)), end=str(datetime(2020, 3, 8))))\n",
    "graph.create(Relationship(pong, \"WENT_TO\", ai, start=str(datetime(2020, 3, 3)), end=str(datetime(2020, 3, 5))))\n",
    "graph.create(Relationship(mod, \"WENT_TO\", cath, start=str(datetime(2020, 3, 7)), end=str(datetime(2020, 3, 10))))\n",
    "graph.create(Relationship(pan, \"WENT_TO\", cath, start=str(datetime(2020, 3, 9)), end=str(datetime(2020, 3, 10))))\n",
    "graph.create(Relationship(day, \"WENT_TO\", lfc, start=str(datetime(2020, 3, 8)), end=str(datetime(2020, 3, 10))))\n",
    "graph.create(Relationship(tong, \"WENT_TO\", airport, start=str(datetime(2020, 2, 21)), end=str(datetime(2020, 2, 23))))\n",
    "graph.create(Relationship(ann, \"WENT_TO\", airport, start=str(datetime(2020, 2, 21)), end=str(datetime(2020, 2, 23))))\n",
    "\n",
    "graph.create(Relationship(pong, \"CLOSE_FRIEND\", mod))\n",
    "graph.create(Relationship(mod, \"CLOSE_FRIEND\", pong))\n",
    "graph.create(Relationship(yo, \"CLOSE_FRIEND\", mui))\n",
    "graph.create(Relationship(mui, \"CLOSE_FRIEND\", yo))\n"
   ]
  },
  {
   "cell_type": "markdown",
   "metadata": {},
   "source": [
    "## Show Graph Data"
   ]
  },
  {
   "cell_type": "code",
   "execution_count": 62,
   "metadata": {},
   "outputs": [],
   "source": [
    "from scripts.vis import draw, vis_network\n",
    "\n",
    "options = {\"Person\": \"name\", \"Drink\": \"name\", \"Manufacturer\": \"name\"}\n",
    "# draw(graph, options)"
   ]
  },
  {
   "cell_type": "code",
   "execution_count": 63,
   "metadata": {},
   "outputs": [],
   "source": [
    "from py2neo import Graph\n",
    "graph = Graph(\"bolt://localhost:7687\", user='neo4j', password='1234')"
   ]
  },
  {
   "cell_type": "code",
   "execution_count": 64,
   "metadata": {},
   "outputs": [
    {
     "data": {
      "text/plain": [
       "<py2neo.database.Cursor at 0x7fc45764fb70>"
      ]
     },
     "execution_count": 64,
     "metadata": {},
     "output_type": "execute_result"
    }
   ],
   "source": [
    "query = \"\"\"\n",
    "MATCH (p:Person)\n",
    "OPTIONAL MATCH (p)-[a]->(m)\n",
    "RETURN  p,\n",
    "        id(p) as p_id,\n",
    "        a,\n",
    "        m,\n",
    "        id(m) as m_id;\n",
    "\"\"\"\n",
    "\n",
    "data = graph.run(query)\n",
    "data"
   ]
  },
  {
   "cell_type": "code",
   "execution_count": 65,
   "metadata": {},
   "outputs": [],
   "source": [
    "def get_node_info(node, node_id):\n",
    "    gr = ''.join(str(node.labels).split(':'))\n",
    "    return {\"id\": node_id, \"label\": node['name'], \"group\": gr, \"level\": node['level']}"
   ]
  },
  {
   "cell_type": "code",
   "execution_count": 66,
   "metadata": {},
   "outputs": [],
   "source": [
    "data = graph.run(query)\n",
    "\n",
    "nodes = []\n",
    "edges = []\n",
    "physics = True\n",
    "\n",
    "for row in data:\n",
    "    p = row[0]\n",
    "    p_id = row[1]\n",
    "    a = row[2]\n",
    "    m = row[3]\n",
    "    m_id = row[4]\n",
    "    \n",
    "    p_info = get_node_info(p, p_id)\n",
    "    if p_info not in nodes:\n",
    "        nodes.append(p_info)\n",
    "         \n",
    "    if m:\n",
    "        m_info = get_node_info(m, m_id)\n",
    "        if m_info not in nodes:\n",
    "            nodes.append(m_info)\n",
    "        \n",
    "        if type(a).__name__ == 'WENT_TO':\n",
    "            edges.append({\"from\": p_info[\"id\"], \"to\": m_info[\"id\"], \"label\": type(a).__name__, \"start\":a[\"start\"], \"end\":a[\"end\"]})\n",
    "        else:\n",
    "            edges.append({\"from\": p_info[\"id\"], \"to\": m_info[\"id\"], \"label\": type(a).__name__})"
   ]
  },
  {
   "cell_type": "code",
   "execution_count": 67,
   "metadata": {},
   "outputs": [],
   "source": [
    "import json\n",
    "with open('aa.json', 'w') as outfile:\n",
    "    json.dump({'nodes':nodes, 'edges':edges}, outfile)"
   ]
  }
 ],
 "metadata": {
  "kernelspec": {
   "display_name": "covid-19",
   "language": "python",
   "name": "covid-19"
  },
  "language_info": {
   "codemirror_mode": {
    "name": "ipython",
    "version": 3
   },
   "file_extension": ".py",
   "mimetype": "text/x-python",
   "name": "python",
   "nbconvert_exporter": "python",
   "pygments_lexer": "ipython3",
   "version": "3.7.0"
  }
 },
 "nbformat": 4,
 "nbformat_minor": 4
}
