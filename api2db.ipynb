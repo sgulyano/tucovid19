{
 "cells": [
  {
   "cell_type": "code",
   "execution_count": 58,
   "metadata": {},
   "outputs": [],
   "source": [
    "import requests\n",
    "import json\n",
    "import os\n",
    "from datetime import date\n",
    "\n",
    "today = date.today()\n",
    "\n",
    "headers = { os.environ['KEY'] : os.environ['TOKEN']}\n",
    "\n",
    "apis = ['user', 'Rick', 'Daily', 'Location']\n",
    "\n",
    "    \n",
    "def load_data_from_api(api, headers = headers):\n",
    "    try:\n",
    "        resp = requests.get('https://restapi.tu.ac.th/tu_covid_api/v1/master/{}/getdata'.format(api), headers=headers)\n",
    "        if resp.status_code != 200:\n",
    "            # This means something went wrong.\n",
    "            raise requests.RequestException('GET /{}/ {}'.format(api, resp.status_code))\n",
    "\n",
    "        print('GET /{}/ {} OK'.format(api, resp.status_code))\n",
    "        return resp.json()\n",
    "    except Exception as e:\n",
    "        print(e)\n",
    "        return None"
   ]
  },
  {
   "cell_type": "markdown",
   "metadata": {},
   "source": [
    "## Load Data"
   ]
  },
  {
   "cell_type": "code",
   "execution_count": 59,
   "metadata": {},
   "outputs": [
    {
     "name": "stdout",
     "output_type": "stream",
     "text": [
      "GET /user/ 200 OK\n",
      "GET /Rick/ 200 OK\n",
      "GET /Daily/ 200 OK\n",
      "GET /Location/ 200 OK\n"
     ]
    }
   ],
   "source": [
    "json_user = load_data_from_api('user')\n",
    "json_daily = load_data_from_api('Rick')\n",
    "json_risk = load_data_from_api('Daily')\n",
    "json_loc = load_data_from_api('Location')"
   ]
  },
  {
   "cell_type": "markdown",
   "metadata": {},
   "source": [
    "### Patients USER"
   ]
  },
  {
   "cell_type": "code",
   "execution_count": 60,
   "metadata": {},
   "outputs": [
    {
     "data": {
      "text/plain": [
       "Index(['displayNameTh', 'Username', 'Email', 'Type', 'Age', 'OrgCompany',\n",
       "       'LineID', 'EmpType', 'Phone', 'Gender', 'Blood', 'MedicalStaff',\n",
       "       'BloodResults', 'Home', 'Provice', 'idCard'],\n",
       "      dtype='object')"
      ]
     },
     "execution_count": 60,
     "metadata": {},
     "output_type": "execute_result"
    }
   ],
   "source": [
    "import pandas as pd\n",
    "patients = pd.DataFrame(json_user['data'], dtype='object')\n",
    "patients.columns"
   ]
  },
  {
   "cell_type": "code",
   "execution_count": 61,
   "metadata": {},
   "outputs": [
    {
     "data": {
      "text/plain": [
       "array(['guest', 'student', 'employee'], dtype=object)"
      ]
     },
     "execution_count": 61,
     "metadata": {},
     "output_type": "execute_result"
    }
   ],
   "source": [
    "patients['Type'].unique()"
   ]
  },
  {
   "cell_type": "code",
   "execution_count": 62,
   "metadata": {},
   "outputs": [],
   "source": [
    "patients['IsMedStaff'] = patients['MedicalStaff'].apply(lambda x: x == 'บุคลากรทางการแพทย์')"
   ]
  },
  {
   "cell_type": "code",
   "execution_count": 63,
   "metadata": {},
   "outputs": [
    {
     "data": {
      "text/plain": [
       "displayNameTh    object\n",
       "Username         object\n",
       "Email            object\n",
       "Type             object\n",
       "Age              object\n",
       "OrgCompany       object\n",
       "LineID           object\n",
       "EmpType          object\n",
       "Phone            object\n",
       "Gender           object\n",
       "Blood            object\n",
       "MedicalStaff     object\n",
       "BloodResults     object\n",
       "Home             object\n",
       "Provice          object\n",
       "idCard           object\n",
       "IsMedStaff         bool\n",
       "dtype: object"
      ]
     },
     "execution_count": 63,
     "metadata": {},
     "output_type": "execute_result"
    }
   ],
   "source": [
    "patients.dtypes"
   ]
  },
  {
   "cell_type": "code",
   "execution_count": 64,
   "metadata": {},
   "outputs": [
    {
     "data": {
      "text/plain": [
       "array(['ไม่เคย', None, 'กำลังรอฟังผล', '', 'ผลเลือดเป็นลบ (-)',\n",
       "       'ผลเลือดเป็นบวก (+)'], dtype=object)"
      ]
     },
     "execution_count": 64,
     "metadata": {},
     "output_type": "execute_result"
    }
   ],
   "source": [
    "patients['BloodResults'].unique()"
   ]
  },
  {
   "cell_type": "code",
   "execution_count": 65,
   "metadata": {},
   "outputs": [
    {
     "data": {
      "text/plain": [
       "(1635, 17)"
      ]
     },
     "execution_count": 65,
     "metadata": {},
     "output_type": "execute_result"
    }
   ],
   "source": [
    "patients.shape"
   ]
  },
  {
   "cell_type": "code",
   "execution_count": 66,
   "metadata": {},
   "outputs": [
    {
     "data": {
      "text/plain": [
       "(1632,)"
      ]
     },
     "execution_count": 66,
     "metadata": {},
     "output_type": "execute_result"
    }
   ],
   "source": [
    "patients['idCard'].unique().shape"
   ]
  },
  {
   "cell_type": "code",
   "execution_count": 67,
   "metadata": {},
   "outputs": [],
   "source": [
    "# dd = patients.groupby('displayNameTh')['Username'].nunique()\n",
    "# dd[dd > 1]"
   ]
  },
  {
   "cell_type": "code",
   "execution_count": 68,
   "metadata": {},
   "outputs": [],
   "source": [
    "# aa = patients[patients['displayNameTh'].isnull()]['Username'].iloc[3]\n",
    "# patients[patients['idCard']==aa]"
   ]
  },
  {
   "cell_type": "code",
   "execution_count": 69,
   "metadata": {},
   "outputs": [],
   "source": [
    "# dd = patients.groupby('idCard')['Username'].nunique()\n",
    "# dd[dd > 1]"
   ]
  },
  {
   "cell_type": "code",
   "execution_count": 70,
   "metadata": {},
   "outputs": [
    {
     "data": {
      "text/html": [
       "<div>\n",
       "<style scoped>\n",
       "    .dataframe tbody tr th:only-of-type {\n",
       "        vertical-align: middle;\n",
       "    }\n",
       "\n",
       "    .dataframe tbody tr th {\n",
       "        vertical-align: top;\n",
       "    }\n",
       "\n",
       "    .dataframe thead th {\n",
       "        text-align: right;\n",
       "    }\n",
       "</style>\n",
       "<table border=\"1\" class=\"dataframe\">\n",
       "  <thead>\n",
       "    <tr style=\"text-align: right;\">\n",
       "      <th></th>\n",
       "      <th>displayNameTh</th>\n",
       "      <th>Username</th>\n",
       "      <th>Email</th>\n",
       "      <th>Type</th>\n",
       "      <th>Age</th>\n",
       "      <th>OrgCompany</th>\n",
       "      <th>LineID</th>\n",
       "      <th>EmpType</th>\n",
       "      <th>Phone</th>\n",
       "      <th>Gender</th>\n",
       "      <th>Blood</th>\n",
       "      <th>MedicalStaff</th>\n",
       "      <th>BloodResults</th>\n",
       "      <th>Home</th>\n",
       "      <th>Provice</th>\n",
       "      <th>idCard</th>\n",
       "      <th>IsMedStaff</th>\n",
       "    </tr>\n",
       "  </thead>\n",
       "  <tbody>\n",
       "  </tbody>\n",
       "</table>\n",
       "</div>"
      ],
      "text/plain": [
       "Empty DataFrame\n",
       "Columns: [displayNameTh, Username, Email, Type, Age, OrgCompany, LineID, EmpType, Phone, Gender, Blood, MedicalStaff, BloodResults, Home, Provice, idCard, IsMedStaff]\n",
       "Index: []"
      ]
     },
     "execution_count": 70,
     "metadata": {},
     "output_type": "execute_result"
    }
   ],
   "source": [
    "patients[patients['idCard'].isnull()]"
   ]
  },
  {
   "cell_type": "code",
   "execution_count": 71,
   "metadata": {},
   "outputs": [],
   "source": [
    "# dd = patients.groupby('LineID')['Username'].nunique()\n",
    "# dd[dd > 1]"
   ]
  },
  {
   "cell_type": "code",
   "execution_count": 72,
   "metadata": {},
   "outputs": [],
   "source": [
    "# dd[dd == 0]"
   ]
  },
  {
   "cell_type": "code",
   "execution_count": 73,
   "metadata": {},
   "outputs": [
    {
     "data": {
      "text/plain": [
       "1633"
      ]
     },
     "execution_count": 73,
     "metadata": {},
     "output_type": "execute_result"
    }
   ],
   "source": [
    "aa = patients['LineID'].nunique()\n",
    "aa"
   ]
  },
  {
   "cell_type": "code",
   "execution_count": 74,
   "metadata": {},
   "outputs": [],
   "source": [
    "# patients[patients['LineID']=='']"
   ]
  },
  {
   "cell_type": "markdown",
   "metadata": {},
   "source": [
    "### Daily form"
   ]
  },
  {
   "cell_type": "code",
   "execution_count": 75,
   "metadata": {},
   "outputs": [
    {
     "data": {
      "text/plain": [
       "Index(['formSaveRisk1', 'formSaveRisk2', 'formSaveRisk3', 'formSaveRisk31',\n",
       "       'formSaveRisk4', 'formSaveRisk41', 'formSaveRisk42', 'formSaveRisk5',\n",
       "       'RECORD_STATUS', 'CREATE_DATE_CONVERT', 'COLOR', 'LineID', 'Username'],\n",
       "      dtype='object')"
      ]
     },
     "execution_count": 75,
     "metadata": {},
     "output_type": "execute_result"
    }
   ],
   "source": [
    "dailyforms = pd.DataFrame(json_daily['data'])\n",
    "dailyforms.columns"
   ]
  },
  {
   "cell_type": "code",
   "execution_count": 76,
   "metadata": {},
   "outputs": [],
   "source": [
    "dailyforms.rename(columns={'CREATE_DATE_CONVERT': 'Create_date'}, inplace=True)"
   ]
  },
  {
   "cell_type": "code",
   "execution_count": 77,
   "metadata": {},
   "outputs": [
    {
     "data": {
      "text/plain": [
       "Index(['formSaveRisk1', 'formSaveRisk2', 'formSaveRisk3', 'formSaveRisk31',\n",
       "       'formSaveRisk4', 'formSaveRisk41', 'formSaveRisk42', 'formSaveRisk5',\n",
       "       'RECORD_STATUS', 'Create_date', 'COLOR', 'LineID', 'Username'],\n",
       "      dtype='object')"
      ]
     },
     "execution_count": 77,
     "metadata": {},
     "output_type": "execute_result"
    }
   ],
   "source": [
    "dailyforms.columns"
   ]
  },
  {
   "cell_type": "code",
   "execution_count": 78,
   "metadata": {},
   "outputs": [
    {
     "data": {
      "text/plain": [
       "(1273, 13)"
      ]
     },
     "execution_count": 78,
     "metadata": {},
     "output_type": "execute_result"
    }
   ],
   "source": [
    "dailyforms.shape"
   ]
  },
  {
   "cell_type": "code",
   "execution_count": 79,
   "metadata": {},
   "outputs": [
    {
     "data": {
      "text/plain": [
       "array(['สีเขียว', 'สีเหลือง', 'สีส้ม', 'สีแดง', 'สีน้ำเงิน'], dtype=object)"
      ]
     },
     "execution_count": 79,
     "metadata": {},
     "output_type": "execute_result"
    }
   ],
   "source": [
    "dailyforms['COLOR'].unique()"
   ]
  },
  {
   "cell_type": "markdown",
   "metadata": {},
   "source": [
    "### Risk form"
   ]
  },
  {
   "cell_type": "code",
   "execution_count": 80,
   "metadata": {},
   "outputs": [
    {
     "data": {
      "text/plain": [
       "Index(['formSaveDaily1', 'formSaveDaily2', 'formSaveDaily2Other',\n",
       "       'formSaveDaily3', 'formSaveDaily4', 'formSaveDaily5', 'Temperature',\n",
       "       'LineID', 'Username', 'COLOR', 'Create_date'],\n",
       "      dtype='object')"
      ]
     },
     "execution_count": 80,
     "metadata": {},
     "output_type": "execute_result"
    }
   ],
   "source": [
    "riskforms = pd.DataFrame(json_risk['data'])\n",
    "riskforms.columns"
   ]
  },
  {
   "cell_type": "code",
   "execution_count": 81,
   "metadata": {},
   "outputs": [
    {
     "data": {
      "text/plain": [
       "(1350, 11)"
      ]
     },
     "execution_count": 81,
     "metadata": {},
     "output_type": "execute_result"
    }
   ],
   "source": [
    "riskforms.shape"
   ]
  },
  {
   "cell_type": "code",
   "execution_count": 82,
   "metadata": {},
   "outputs": [
    {
     "data": {
      "text/plain": [
       "Index(['formSaveDaily1', 'formSaveDaily2', 'formSaveDaily2Other',\n",
       "       'formSaveDaily3', 'formSaveDaily4', 'formSaveDaily5', 'Temperature',\n",
       "       'LineID', 'Username', 'COLOR', 'Create_date'],\n",
       "      dtype='object')"
      ]
     },
     "execution_count": 82,
     "metadata": {},
     "output_type": "execute_result"
    }
   ],
   "source": [
    "riskforms.columns"
   ]
  },
  {
   "cell_type": "code",
   "execution_count": 83,
   "metadata": {},
   "outputs": [
    {
     "data": {
      "text/plain": [
       "array(['สีเขียว', 'สีเหลือง', 'สีส้ม', 'สีแดง', 'สีน้ำเงิน'], dtype=object)"
      ]
     },
     "execution_count": 83,
     "metadata": {},
     "output_type": "execute_result"
    }
   ],
   "source": [
    "riskforms['COLOR'].unique()"
   ]
  },
  {
   "cell_type": "code",
   "execution_count": 84,
   "metadata": {},
   "outputs": [],
   "source": [
    "# riskforms[['Username', 'LineID', 'COLOR', 'Create_date']].head()"
   ]
  },
  {
   "cell_type": "code",
   "execution_count": 85,
   "metadata": {},
   "outputs": [],
   "source": [
    "# dailyforms[['Username', 'LineID', 'COLOR', 'Create_date']].head()"
   ]
  },
  {
   "cell_type": "code",
   "execution_count": 86,
   "metadata": {},
   "outputs": [],
   "source": [
    "# color_info = pd.concat([riskforms[['Username', 'LineID', 'COLOR', 'Create_date']], \n",
    "#                             dailyforms[['Username', 'LineID', 'COLOR', 'Create_date']]], axis=0).sort_values(by=['Create_date']).reset_index()\n",
    "# color_info"
   ]
  },
  {
   "cell_type": "markdown",
   "metadata": {},
   "source": [
    "### Location Form"
   ]
  },
  {
   "cell_type": "code",
   "execution_count": 87,
   "metadata": {},
   "outputs": [
    {
     "data": {
      "text/plain": [
       "Index(['messageTitle', 'messageLatitude', 'messageLongitude', 'messageAddress',\n",
       "       'formLocationDetail', 'formLocationTime', 'formLocationDate',\n",
       "       'Username', 'LineID'],\n",
       "      dtype='object')"
      ]
     },
     "execution_count": 87,
     "metadata": {},
     "output_type": "execute_result"
    }
   ],
   "source": [
    "locforms = pd.DataFrame(json_loc['data'])\n",
    "locforms.columns"
   ]
  },
  {
   "cell_type": "code",
   "execution_count": 88,
   "metadata": {},
   "outputs": [
    {
     "data": {
      "text/plain": [
       "(381, 9)"
      ]
     },
     "execution_count": 88,
     "metadata": {},
     "output_type": "execute_result"
    }
   ],
   "source": [
    "locforms.shape"
   ]
  },
  {
   "cell_type": "code",
   "execution_count": 89,
   "metadata": {},
   "outputs": [
    {
     "data": {
      "text/plain": [
       "array(['01:09', '16:32', '16:22', '17:11', '13:13', '10:00', '08:30',\n",
       "       '12:11', '23:58', '12:02', '12:27', '10:24', '15:00', '08:20',\n",
       "       '14:11', '23:33', '12:04', None, '19:40', '10:48', '11:15',\n",
       "       '13:39', '11:30', '20:04', '17:30', '13:10', '12:10', '09:45',\n",
       "       '17:04', '15:40', '11:00', '21:29', '08:40', '18:39', '13:00',\n",
       "       '06:30', '16:00', '13:02', '15:43', '21:07', '14:00', '16:52',\n",
       "       '12:39', '12:40', '21:56', '16:30', '15:35', '07:30', '12:00',\n",
       "       '18:52', '06:50', '08:36', '11:45', '09:49', '14:29', '13:43',\n",
       "       '19:00', '11:12', '10:45', '06:29', '06:01', '09:15', '21:00',\n",
       "       '07:00', '15:20', '11:40', '05:00', '19:30'], dtype=object)"
      ]
     },
     "execution_count": 89,
     "metadata": {},
     "output_type": "execute_result"
    }
   ],
   "source": [
    "locforms['formLocationTime'].unique()"
   ]
  },
  {
   "cell_type": "code",
   "execution_count": 90,
   "metadata": {},
   "outputs": [
    {
     "data": {
      "text/plain": [
       "array(['2020-04-11', '2020-04-10', '2020-04-09', '2020-04-08',\n",
       "       '2020-04-07', '2020-04-06', '2020-04-05', '2020-04-04',\n",
       "       '2020-04-03', '2020-04-02', '2020-04-01', '2020-03-31',\n",
       "       '2020-03-30', '2020-03-29', '2020-03-28', '2020-03-27',\n",
       "       '2020-03-25', '2020-03-24', '2020-03-23', '2020-03-21',\n",
       "       '2020-03-20', '2020-03-18', '2020-03-15', '2020-02-12', None],\n",
       "      dtype=object)"
      ]
     },
     "execution_count": 90,
     "metadata": {},
     "output_type": "execute_result"
    }
   ],
   "source": [
    "locforms['formLocationDate'].unique()"
   ]
  },
  {
   "cell_type": "code",
   "execution_count": 91,
   "metadata": {},
   "outputs": [],
   "source": [
    "from datetime import datetime, timedelta\n",
    "def get_date_time(row):\n",
    "    if row['formLocationDate'] and row['formLocationTime']:\n",
    "        date_time_str = row['formLocationDate'] + ' ' + row['formLocationTime']\n",
    "        return datetime.strptime(date_time_str, '%Y-%m-%d %H:%M')\n",
    "    else:\n",
    "        return None\n",
    "locforms['start'] = locforms.apply(get_date_time, axis=1)"
   ]
  },
  {
   "cell_type": "code",
   "execution_count": 92,
   "metadata": {},
   "outputs": [],
   "source": [
    "locforms['end'] = locforms['start'].apply(lambda x: x + timedelta(hours=4))"
   ]
  },
  {
   "cell_type": "code",
   "execution_count": 93,
   "metadata": {},
   "outputs": [],
   "source": [
    "locforms['start'] = locforms['start'].apply(str)\n",
    "locforms['end'] = locforms['end'].apply(str)"
   ]
  },
  {
   "cell_type": "code",
   "execution_count": 94,
   "metadata": {},
   "outputs": [
    {
     "data": {
      "text/plain": [
       "Index(['messageTitle', 'messageLatitude', 'messageLongitude', 'messageAddress',\n",
       "       'formLocationDetail', 'formLocationTime', 'formLocationDate',\n",
       "       'Username', 'LineID', 'start', 'end'],\n",
       "      dtype='object')"
      ]
     },
     "execution_count": 94,
     "metadata": {},
     "output_type": "execute_result"
    }
   ],
   "source": [
    "locforms.columns"
   ]
  },
  {
   "cell_type": "code",
   "execution_count": 95,
   "metadata": {},
   "outputs": [],
   "source": [
    "locforms.replace({'NaT': '-'}, inplace=True)\n",
    "locforms.fillna('-', inplace=True)"
   ]
  },
  {
   "cell_type": "markdown",
   "metadata": {},
   "source": [
    "## Convert to Graph Database"
   ]
  },
  {
   "cell_type": "code",
   "execution_count": 96,
   "metadata": {},
   "outputs": [],
   "source": [
    "from neo4j import GraphDatabase, exceptions\n",
    "\n",
    "uri = \"bolt://localhost:7687\"\n",
    "driver = GraphDatabase.driver(uri, auth=(os.environ['NEO4J_USERNAME'], os.environ['NEO4J_PASSWORD']), encrypted=False)"
   ]
  },
  {
   "cell_type": "code",
   "execution_count": 97,
   "metadata": {},
   "outputs": [],
   "source": [
    "with driver.session() as session:\n",
    "    session.run(\"MATCH (n) DETACH DELETE n;\")\n",
    "    session.run(\"\"\"CREATE CONSTRAINT unique_username\n",
    "                   ON (n:Person) \n",
    "                   ASSERT n.username IS UNIQUE\"\"\")"
   ]
  },
  {
   "cell_type": "markdown",
   "metadata": {},
   "source": [
    "ให้โยนข้อมูลใส่ SQL ก่อนแล้วค่อยสร้าง Graph Database โดยส่งเฉพาะข้อมูลที่จำเป็น (เปิดเผยได้ เพราะ กราฟจะเปิด public) พร้อม id เพื่อให้สามารถ link กลับไปหาข้อมูลใน SQL ได้"
   ]
  },
  {
   "cell_type": "markdown",
   "metadata": {},
   "source": [
    "### Create Nodes"
   ]
  },
  {
   "cell_type": "code",
   "execution_count": 98,
   "metadata": {},
   "outputs": [],
   "source": [
    "def create_person(driver, index, param):\n",
    "    param[\"id\"] = index\n",
    "    try:\n",
    "        with driver.session() as session:\n",
    "            return session.run(\"\"\"CREATE (a:Person {id:$id,\n",
    "                                                    name:$Username, \n",
    "                                                    type:$Type,\n",
    "                                                    age:$Age,\n",
    "                                                    org:$OrgCompany,\n",
    "                                                    emptype:$EmpType,\n",
    "                                                    gender:$Gender,\n",
    "                                                    blood:$Blood,\n",
    "                                                    ismedstaff:$IsMedStaff,\n",
    "                                                    bloodres:$BloodResults,\n",
    "                                                    home:$Home,\n",
    "                                                    province:$Provice\n",
    "                                                   })\"\"\", param)\n",
    "    except exceptions.ConstraintError:\n",
    "        print('Node exists')\n",
    "        return None"
   ]
  },
  {
   "cell_type": "code",
   "execution_count": 99,
   "metadata": {},
   "outputs": [],
   "source": [
    "for index, row in patients.iterrows():\n",
    "    create_person(driver, index, row.to_dict())"
   ]
  },
  {
   "cell_type": "markdown",
   "metadata": {},
   "source": [
    "### Update Color Level"
   ]
  },
  {
   "cell_type": "code",
   "execution_count": 100,
   "metadata": {},
   "outputs": [],
   "source": [
    "from datetime import datetime, timedelta\n",
    "def convert_str_date(s):\n",
    "    return datetime.strptime(s, '%Y-%m-%d')\n",
    "\n",
    "COLOR_MAP = {'สีเขียว':0, 'สีเหลือง':1, 'สีแดง':4, 'สีส้ม':3, 'สีน้ำเงิน':2, 'สีม่วง':5}\n",
    "COLOR_MAP_TH_ENG = {'สีเขียว':'Green', 'สีเหลือง':'Yellow', 'สีแดง':'Red', 'สีส้ม':'Orange', 'สีน้ำเงิน':'Blue', 'สีม่วง':'Purple'}"
   ]
  },
  {
   "cell_type": "code",
   "execution_count": 101,
   "metadata": {},
   "outputs": [],
   "source": [
    "def update_color(driver, param, DATE_THR=timedelta(days=14)):\n",
    "    with driver.session() as session:\n",
    "        tx = session.begin_transaction()\n",
    "        rec = tx.run(\"MATCH (a:Person {name:$Username } ) \"\n",
    "                    \"RETURN id(a), a.name, a.color, a.color_date\", param).single()\n",
    "        if rec:\n",
    "            needUpdate = True\n",
    "            if rec['a.color'] and rec['a.color_date']:    \n",
    "                # if new value has higher color level\n",
    "                if (COLOR_MAP[rec['a.color']] < COLOR_MAP[param['COLOR']]):\n",
    "                    # check if new value create date is less than threshold\n",
    "                    if datetime.now() - convert_str_date(param['Create_date']) < DATE_THR:\n",
    "                        needUpdate = True;\n",
    "                    else:\n",
    "                        needUpdate = False\n",
    "                # to reduce level, must pass date threshold and new date is greater\n",
    "                elif (COLOR_MAP[rec['a.color']] > COLOR_MAP[param['COLOR']]):\n",
    "                    if datetime.now() - convert_str_date(rec['a.color_date']) > DATE_THR and \\\n",
    "                            convert_str_date(rec['a.color_date']) < convert_str_date(param['Create_date']):\n",
    "                        needUpdate = True;\n",
    "                    else:\n",
    "                        needUpdate = False\n",
    "                # if equal level, keep the lowest date\n",
    "                else:\n",
    "                    if convert_str_date(rec['a.color_date']) > convert_str_date(param['Create_date']):\n",
    "                        needUpdate = True;\n",
    "                    else:\n",
    "                        needUpdate = False\n",
    "                \n",
    "                if needUpdate:\n",
    "                    print(f\"{rec['id(a)']} update {rec['a.color']:10s} --> {param['COLOR']}\")\n",
    "                    print('\\t', rec['a.color_date'], ' \\t ', param['Create_date'])\n",
    "                \n",
    "            if needUpdate:\n",
    "                tx.run(\"MATCH (a:Person {name:$Username } ) \"\n",
    "                       \"SET a.color = $COLOR, a.color_date = $Create_date \", param)             \n",
    "        else:\n",
    "            raise Exception('No Node with the Name : ', param['Username'])\n",
    "        tx.commit()\n",
    "        return rec"
   ]
  },
  {
   "cell_type": "code",
   "execution_count": 102,
   "metadata": {},
   "outputs": [
    {
     "name": "stdout",
     "output_type": "stream",
     "text": [
      "15082 update สีเขียว    --> สีเหลือง\n",
      "\t 2020-03-29  \t  2020-03-30\n",
      "15088 update สีเขียว    --> สีเหลือง\n",
      "\t 2020-03-30  \t  2020-03-30\n",
      "15088 update สีเหลือง   --> สีส้ม\n",
      "\t 2020-03-30  \t  2020-04-03\n",
      "15127 update สีเขียว    --> สีเหลือง\n",
      "\t 2020-04-01  \t  2020-04-10\n",
      "15139 update สีเขียว    --> สีแดง\n",
      "\t 2020-04-01  \t  2020-04-04\n",
      "15144 update สีเขียว    --> สีส้ม\n",
      "\t 2020-04-01  \t  2020-04-06\n",
      "15153 update สีเขียว    --> สีส้ม\n",
      "\t 2020-04-02  \t  2020-04-08\n",
      "15159 update สีเขียว    --> สีส้ม\n",
      "\t 2020-03-29  \t  2020-03-30\n",
      "15160 update สีแดง      --> สีเขียว\n",
      "\t 2020-03-27  \t  2020-04-08\n",
      "15172 update สีส้ม      --> สีเขียว\n",
      "\t 2020-03-23  \t  2020-04-09\n",
      "15199 update สีเขียว    --> สีส้ม\n",
      "\t 2020-03-23  \t  2020-04-06\n",
      "15216 update สีเหลือง   --> สีเขียว\n",
      "\t 2020-03-23  \t  2020-04-03\n",
      "15220 update สีเขียว    --> สีส้ม\n",
      "\t 2020-03-23  \t  2020-03-30\n",
      "15246 update สีเขียว    --> สีเหลือง\n",
      "\t 2020-03-24  \t  2020-03-30\n",
      "15260 update สีเขียว    --> สีส้ม\n",
      "\t 2020-03-25  \t  2020-04-10\n",
      "15307 update สีเขียว    --> สีส้ม\n",
      "\t 2020-03-31  \t  2020-04-09\n",
      "15343 update สีเขียว    --> สีแดง\n",
      "\t 2020-03-29  \t  2020-03-29\n",
      "15345 update สีเขียว    --> สีส้ม\n",
      "\t 2020-03-24  \t  2020-04-09\n",
      "15345 update สีส้ม      --> สีแดง\n",
      "\t 2020-04-09  \t  2020-04-09\n",
      "15449 update สีเขียว    --> สีส้ม\n",
      "\t 2020-03-23  \t  2020-04-06\n",
      "15469 update สีเขียว    --> สีส้ม\n",
      "\t 2020-03-23  \t  2020-04-04\n",
      "15474 update สีเขียว    --> สีเหลือง\n",
      "\t 2020-03-23  \t  2020-04-01\n",
      "15534 update สีเขียว    --> สีส้ม\n",
      "\t 2020-03-23  \t  2020-04-06\n",
      "15539 update สีเขียว    --> สีส้ม\n",
      "\t 2020-03-23  \t  2020-04-08\n",
      "15571 update สีเขียว    --> สีแดง\n",
      "\t 2020-03-23  \t  2020-04-04\n",
      "15596 update สีเขียว    --> สีเหลือง\n",
      "\t 2020-03-23  \t  2020-04-05\n",
      "15624 update สีส้ม      --> สีเหลือง\n",
      "\t 2020-03-23  \t  2020-04-01\n",
      "15634 update สีเขียว    --> สีเหลือง\n",
      "\t 2020-03-24  \t  2020-03-30\n",
      "15656 update สีเขียว    --> สีส้ม\n",
      "\t 2020-03-30  \t  2020-04-06\n",
      "15656 update สีส้ม      --> สีแดง\n",
      "\t 2020-04-06  \t  2020-04-06\n",
      "38 update สีเขียว    --> สีเหลือง\n",
      "\t 2020-03-30  \t  2020-04-01\n",
      "120 update สีเขียว    --> สีเหลือง\n",
      "\t 2020-04-01  \t  2020-04-06\n",
      "142 update สีเขียว    --> สีเหลือง\n",
      "\t 2020-03-30  \t  2020-04-01\n",
      "191 update สีเขียว    --> สีส้ม\n",
      "\t 2020-03-30  \t  2020-04-04\n",
      "236 update สีเขียว    --> สีส้ม\n",
      "\t 2020-03-23  \t  2020-04-01\n",
      "244 update สีเขียว    --> สีส้ม\n",
      "\t 2020-03-30  \t  2020-04-08\n",
      "265 update สีเขียว    --> สีเหลือง\n",
      "\t 2020-03-23  \t  2020-03-30\n",
      "345 update สีส้ม      --> สีเขียว\n",
      "\t 2020-03-24  \t  2020-04-02\n",
      "367 update สีเขียว    --> สีเหลือง\n",
      "\t 2020-03-24  \t  2020-03-30\n",
      "368 update สีเขียว    --> สีเหลือง\n",
      "\t 2020-03-24  \t  2020-03-31\n",
      "380 update สีเขียว    --> สีเหลือง\n",
      "\t 2020-03-24  \t  2020-04-07\n",
      "396 update สีส้ม      --> สีเขียว\n",
      "\t 2020-03-24  \t  2020-03-30\n",
      "398 update สีเขียว    --> สีเหลือง\n",
      "\t 2020-03-24  \t  2020-03-30\n",
      "434 update สีเขียว    --> สีเหลือง\n",
      "\t 2020-03-24  \t  2020-03-30\n",
      "473 update สีเขียว    --> สีส้ม\n",
      "\t 2020-03-24  \t  2020-04-08\n",
      "480 update สีเขียว    --> สีส้ม\n",
      "\t 2020-03-24  \t  2020-04-06\n",
      "494 update สีเขียว    --> สีแดง\n",
      "\t 2020-03-24  \t  2020-03-31\n",
      "569 update สีเขียว    --> สีเหลือง\n",
      "\t 2020-03-26  \t  2020-03-29\n",
      "574 update สีเขียว    --> สีส้ม\n",
      "\t 2020-03-26  \t  2020-04-07\n",
      "585 update สีเขียว    --> สีแดง\n",
      "\t 2020-03-26  \t  2020-04-06\n",
      "625 update สีเขียว    --> สีส้ม\n",
      "\t 2020-03-27  \t  2020-04-06\n",
      "625 update สีส้ม      --> สีแดง\n",
      "\t 2020-04-06  \t  2020-04-06\n",
      "630 update สีเขียว    --> สีส้ม\n",
      "\t 2020-03-27  \t  2020-04-08\n",
      "631 update สีเขียว    --> สีเหลือง\n",
      "\t 2020-03-27  \t  2020-04-04\n",
      "644 update สีส้ม      --> สีเขียว\n",
      "\t 2020-03-28  \t  2020-04-02\n",
      "644 update สีเขียว    --> สีส้ม\n",
      "\t 2020-04-02  \t  2020-04-11\n",
      "645 update สีเขียว    --> สีส้ม\n",
      "\t 2020-03-28  \t  2020-04-07\n",
      "653 update สีเขียว    --> สีเหลือง\n",
      "\t 2020-03-28  \t  2020-03-29\n",
      "669 update สีเขียว    --> สีส้ม\n",
      "\t 2020-03-30  \t  2020-03-30\n",
      "693 update สีเขียว    --> สีเหลือง\n",
      "\t 2020-03-30  \t  2020-04-01\n",
      "695 update สีเขียว    --> สีแดง\n",
      "\t 2020-03-30  \t  2020-04-01\n",
      "811 update สีเขียว    --> สีแดง\n",
      "\t 2020-03-30  \t  2020-04-05\n",
      "828 update สีเขียว    --> สีเหลือง\n",
      "\t 2020-03-31  \t  2020-04-02\n",
      "843 update สีเขียว    --> สีเหลือง\n",
      "\t 2020-04-01  \t  2020-04-01\n",
      "918 update สีเขียว    --> สีส้ม\n",
      "\t 2020-04-01  \t  2020-04-06\n",
      "924 update สีเขียว    --> สีส้ม\n",
      "\t 2020-04-01  \t  2020-04-08\n",
      "929 update สีเขียว    --> สีเหลือง\n",
      "\t 2020-04-01  \t  2020-04-01\n",
      "937 update สีเขียว    --> สีเหลือง\n",
      "\t 2020-04-01  \t  2020-04-03\n",
      "952 update สีเขียว    --> สีเหลือง\n",
      "\t 2020-04-01  \t  2020-04-07\n",
      "965 update สีเขียว    --> สีแดง\n",
      "\t 2020-04-01  \t  2020-04-03\n",
      "975 update สีเขียว    --> สีเหลือง\n",
      "\t 2020-04-02  \t  2020-04-02\n",
      "993 update สีเขียว    --> สีเหลือง\n",
      "\t 2020-04-02  \t  2020-04-02\n"
     ]
    }
   ],
   "source": [
    "for index, row in dailyforms.iterrows():\n",
    "    try:\n",
    "        update_color(driver, row.to_dict())\n",
    "    except Exception as e:\n",
    "        print(e)"
   ]
  },
  {
   "cell_type": "code",
   "execution_count": 103,
   "metadata": {},
   "outputs": [
    {
     "name": "stdout",
     "output_type": "stream",
     "text": [
      "94 update สีเขียว    --> สีเขียว\n",
      "\t 2020-03-24  \t  2020-03-23\n",
      "938 update สีเขียว    --> สีเหลือง\n",
      "\t 2020-04-01  \t  2020-04-01\n",
      "566 update สีส้ม      --> สีแดง\n",
      "\t 2020-04-10  \t  2020-04-10\n",
      "15417 update สีเขียว    --> สีเหลือง\n",
      "\t 2020-03-31  \t  2020-03-31\n",
      "827 update สีเขียว    --> สีเหลือง\n",
      "\t 2020-03-31  \t  2020-04-06\n",
      "380 update สีเหลือง   --> สีเหลือง\n",
      "\t 2020-04-07  \t  2020-04-01\n",
      "380 update สีเหลือง   --> สีเหลือง\n",
      "\t 2020-04-01  \t  2020-03-26\n",
      "380 update สีเหลือง   --> สีเหลือง\n",
      "\t 2020-03-26  \t  2020-03-24\n",
      "952 update สีเหลือง   --> สีเหลือง\n",
      "\t 2020-04-07  \t  2020-04-04\n",
      "952 update สีเหลือง   --> สีเหลือง\n",
      "\t 2020-04-04  \t  2020-04-02\n",
      "129 update สีเขียว    --> สีเหลือง\n",
      "\t 2020-03-30  \t  2020-03-30\n",
      "15127 update สีเหลือง   --> สีเหลือง\n",
      "\t 2020-04-10  \t  2020-04-02\n",
      "15127 update สีเหลือง   --> สีเหลือง\n",
      "\t 2020-04-02  \t  2020-04-01\n",
      "367 update สีเหลือง   --> สีเหลือง\n",
      "\t 2020-03-30  \t  2020-03-24\n",
      "367 update สีเหลือง   --> สีเขียว\n",
      "\t 2020-03-24  \t  2020-04-01\n",
      "73 update สีเขียว    --> สีเหลือง\n",
      "\t 2020-03-29  \t  2020-03-29\n",
      "15499 update สีเขียว    --> สีเขียว\n",
      "\t 2020-03-26  \t  2020-03-23\n",
      "1003 update สีเขียว    --> สีเหลือง\n",
      "\t 2020-04-03  \t  2020-04-03\n",
      "15332 update สีเขียว    --> สีเหลือง\n",
      "\t 2020-04-03  \t  2020-04-04\n",
      "15408 update สีเขียว    --> สีเหลือง\n",
      "\t 2020-03-29  \t  2020-04-01\n",
      "390 update สีเขียว    --> สีเหลือง\n",
      "\t 2020-03-24  \t  2020-04-05\n",
      "15634 update สีเหลือง   --> สีเหลือง\n",
      "\t 2020-03-30  \t  2020-03-24\n",
      "15634 update สีเหลือง   --> สีเขียว\n",
      "\t 2020-03-24  \t  2020-03-30\n",
      "919 update สีเขียว    --> สีเหลือง\n",
      "\t 2020-04-02  \t  2020-04-02\n",
      "15611 update สีเขียว    --> สีเหลือง\n",
      "\t 2020-03-24  \t  2020-03-30\n",
      "15611 update สีเหลือง   --> สีเหลือง\n",
      "\t 2020-03-30  \t  2020-03-26\n",
      "15611 update สีเหลือง   --> สีเหลือง\n",
      "\t 2020-03-26  \t  2020-03-24\n",
      "646 update สีเขียว    --> สีเหลือง\n",
      "\t 2020-03-28  \t  2020-03-29\n",
      "646 update สีเหลือง   --> สีเหลือง\n",
      "\t 2020-03-29  \t  2020-03-28\n",
      "646 update สีเหลือง   --> สีเขียว\n",
      "\t 2020-03-28  \t  2020-04-01\n",
      "120 update สีเหลือง   --> สีเหลือง\n",
      "\t 2020-04-06  \t  2020-04-01\n",
      "405 update สีเขียว    --> สีเหลือง\n",
      "\t 2020-03-24  \t  2020-04-03\n",
      "15083 update สีเขียว    --> สีเหลือง\n",
      "\t 2020-03-30  \t  2020-03-30\n",
      "407 update สีเขียว    --> สีเหลือง\n",
      "\t 2020-03-24  \t  2020-04-01\n",
      "15157 update สีเขียว    --> สีเหลือง\n",
      "\t 2020-04-02  \t  2020-04-02\n",
      "15216 update สีเขียว    --> สีเขียว\n",
      "\t 2020-04-03  \t  2020-03-23\n",
      "992 update สีเขียว    --> สีเหลือง\n",
      "\t 2020-04-02  \t  2020-04-02\n",
      "1024 update สีเขียว    --> สีเหลือง\n",
      "\t 2020-04-04  \t  2020-04-06\n",
      "645 update สีส้ม      --> สีแดง\n",
      "\t 2020-04-07  \t  2020-04-07\n",
      "853 update สีส้ม      --> สีแดง\n",
      "\t 2020-04-10  \t  2020-04-10\n",
      "677 update สีเขียว    --> สีเหลือง\n",
      "\t 2020-03-30  \t  2020-04-03\n",
      "15298 update สีเขียว    --> สีเหลือง\n",
      "\t 2020-03-31  \t  2020-04-01\n",
      "15298 update สีเหลือง   --> สีเหลือง\n",
      "\t 2020-04-01  \t  2020-03-31\n",
      "228 update สีส้ม      --> สีแดง\n",
      "\t 2020-03-24  \t  2020-04-01\n",
      "186 update สีเขียว    --> สีเหลือง\n",
      "\t 2020-03-25  \t  2020-03-31\n",
      "101 update สีเขียว    --> สีเหลือง\n",
      "\t 2020-03-30  \t  2020-03-31\n",
      "92 update สีส้ม      --> สีแดง\n",
      "\t 2020-04-04  \t  2020-04-05\n",
      "630 update สีส้ม      --> สีแดง\n",
      "\t 2020-04-08  \t  2020-04-08\n",
      "15522 update สีเขียว    --> สีเหลือง\n",
      "\t 2020-03-23  \t  2020-04-01\n",
      "15522 update สีเหลือง   --> สีเหลือง\n",
      "\t 2020-04-01  \t  2020-03-23\n",
      "15609 update สีเขียว    --> สีเหลือง\n",
      "\t 2020-03-23  \t  2020-03-30\n",
      "147 update สีเขียว    --> สีเหลือง\n",
      "\t 2020-03-27  \t  2020-03-29\n",
      "147 update สีเหลือง   --> สีเหลือง\n",
      "\t 2020-03-29  \t  2020-03-27\n",
      "15281 update สีน้ำเงิน  --> สีแดง\n",
      "\t 2020-03-27  \t  2020-04-04\n",
      "833 update สีส้ม      --> สีแดง\n",
      "\t 2020-03-31  \t  2020-04-02\n",
      "670 update สีเขียว    --> สีเหลือง\n",
      "\t 2020-03-29  \t  2020-03-29\n",
      "401 update สีเขียว    --> สีเหลือง\n",
      "\t 2020-03-24  \t  2020-04-01\n",
      "401 update สีเหลือง   --> สีเหลือง\n",
      "\t 2020-04-01  \t  2020-03-24\n",
      "401 update สีเหลือง   --> สีเขียว\n",
      "\t 2020-03-24  \t  2020-03-25\n",
      "15152 update สีเขียว    --> สีเหลือง\n",
      "\t 2020-04-01  \t  2020-04-01\n",
      "441 update สีเขียว    --> สีเหลือง\n",
      "\t 2020-03-24  \t  2020-04-02\n",
      "441 update สีเหลือง   --> สีเหลือง\n",
      "\t 2020-04-02  \t  2020-04-01\n",
      "968 update สีเขียว    --> สีเหลือง\n",
      "\t 2020-04-01  \t  2020-04-01\n",
      "15599 update สีเขียว    --> สีเหลือง\n",
      "\t 2020-03-23  \t  2020-04-01\n",
      "15599 update สีเหลือง   --> สีเหลือง\n",
      "\t 2020-04-01  \t  2020-03-30\n",
      "15098 update สีเขียว    --> สีเหลือง\n",
      "\t 2020-04-01  \t  2020-04-01\n",
      "836 update สีเขียว    --> สีเหลือง\n",
      "\t 2020-03-31  \t  2020-04-01\n",
      "15625 update สีเขียว    --> สีเขียว\n",
      "\t 2020-03-24  \t  2020-03-23\n",
      "15103 update สีเขียว    --> สีเหลือง\n",
      "\t 2020-03-30  \t  2020-04-04\n",
      "473 update สีส้ม      --> สีแดง\n",
      "\t 2020-04-08  \t  2020-04-08\n",
      "751 update สีส้ม      --> สีแดง\n",
      "\t 2020-03-30  \t  2020-04-04\n",
      "368 update สีเหลือง   --> สีเหลือง\n",
      "\t 2020-03-31  \t  2020-03-24\n",
      "368 update สีเหลือง   --> สีเขียว\n",
      "\t 2020-03-24  \t  2020-04-02\n",
      "668 update สีเขียว    --> สีเหลือง\n",
      "\t 2020-03-29  \t  2020-03-29\n",
      "866 update สีเขียว    --> สีเหลือง\n",
      "\t 2020-03-31  \t  2020-03-31\n",
      "170 update สีเขียว    --> สีเหลือง\n",
      "\t 2020-03-27  \t  2020-04-05\n",
      "15421 update สีเขียว    --> สีเหลือง\n",
      "\t 2020-03-24  \t  2020-04-03\n",
      "265 update สีเหลือง   --> สีเหลือง\n",
      "\t 2020-03-30  \t  2020-03-23\n",
      "265 update สีเหลือง   --> สีเขียว\n",
      "\t 2020-03-23  \t  2020-03-30\n",
      "750 update สีเขียว    --> สีเหลือง\n",
      "\t 2020-03-30  \t  2020-04-01\n",
      "15272 update สีเขียว    --> สีเหลือง\n",
      "\t 2020-03-26  \t  2020-03-31\n",
      "207 update สีเขียว    --> สีเหลือง\n",
      "\t 2020-04-03  \t  2020-04-03\n",
      "15649 update สีเขียว    --> สีเหลือง\n",
      "\t 2020-03-24  \t  2020-04-04\n",
      "637 update สีเขียว    --> สีเหลือง\n",
      "\t 2020-03-27  \t  2020-03-30\n",
      "653 update สีเหลือง   --> สีเหลือง\n",
      "\t 2020-03-29  \t  2020-03-28\n",
      "683 update สีส้ม      --> สีแดง\n",
      "\t 2020-04-07  \t  2020-04-07\n",
      "767 update สีเขียว    --> สีเหลือง\n",
      "\t 2020-03-30  \t  2020-04-06\n",
      "15547 update สีเขียว    --> สีเหลือง\n",
      "\t 2020-04-01  \t  2020-04-06\n",
      "15547 update สีเหลือง   --> สีเหลือง\n",
      "\t 2020-04-06  \t  2020-04-01\n",
      "388 update สีเขียว    --> สีเหลือง\n",
      "\t 2020-03-24  \t  2020-04-04\n",
      "388 update สีเหลือง   --> สีเหลือง\n",
      "\t 2020-04-04  \t  2020-03-24\n",
      "15093 update สีเขียว    --> สีเหลือง\n",
      "\t 2020-04-01  \t  2020-04-01\n",
      "15530 update สีเขียว    --> สีเหลือง\n",
      "\t 2020-03-23  \t  2020-04-01\n",
      "667 update สีเขียว    --> สีเหลือง\n",
      "\t 2020-03-29  \t  2020-03-29\n",
      "889 update สีเขียว    --> สีเหลือง\n",
      "\t 2020-04-01  \t  2020-04-01\n",
      "631 update สีเหลือง   --> สีเหลือง\n",
      "\t 2020-04-04  \t  2020-04-01\n",
      "631 update สีเหลือง   --> สีเหลือง\n",
      "\t 2020-04-01  \t  2020-03-30\n",
      "631 update สีเหลือง   --> สีเหลือง\n",
      "\t 2020-03-30  \t  2020-03-27\n",
      "15351 update สีเขียว    --> สีเหลือง\n",
      "\t 2020-04-02  \t  2020-04-10\n",
      "15351 update สีเหลือง   --> สีเหลือง\n",
      "\t 2020-04-10  \t  2020-04-09\n",
      "15615 update สีเขียว    --> สีเหลือง\n",
      "\t 2020-03-23  \t  2020-04-02\n",
      "259 update สีเขียว    --> สีเหลือง\n",
      "\t 2020-03-23  \t  2020-04-01\n",
      "553 update สีเขียว    --> สีเหลือง\n",
      "\t 2020-03-25  \t  2020-04-01\n",
      "553 update สีเหลือง   --> สีเหลือง\n",
      "\t 2020-04-01  \t  2020-03-25\n",
      "15151 update สีเขียว    --> สีเหลือง\n",
      "\t 2020-04-01  \t  2020-04-01\n",
      "15430 update สีเขียว    --> สีเหลือง\n",
      "\t 2020-03-30  \t  2020-03-30\n",
      "187 update สีเขียว    --> สีเหลือง\n",
      "\t 2020-03-26  \t  2020-04-06\n",
      "15460 update สีเขียว    --> สีเขียว\n",
      "\t 2020-04-01  \t  2020-03-23\n",
      "104 update สีเขียว    --> สีเหลือง\n",
      "\t 2020-03-26  \t  2020-04-03\n",
      "104 update สีเหลือง   --> สีเหลือง\n",
      "\t 2020-04-03  \t  2020-04-01\n",
      "15624 update สีเหลือง   --> สีเหลือง\n",
      "\t 2020-04-01  \t  2020-03-23\n",
      "345 update สีเขียว    --> สีส้ม\n",
      "\t 2020-04-02  \t  2020-04-01\n",
      "345 update สีส้ม      --> สีส้ม\n",
      "\t 2020-04-01  \t  2020-03-24\n",
      "345 update สีส้ม      --> สีเขียว\n",
      "\t 2020-03-24  \t  2020-04-06\n",
      "96 update สีเขียว    --> สีเหลือง\n",
      "\t 2020-03-30  \t  2020-03-30\n",
      "572 update สีเขียว    --> สีเหลือง\n",
      "\t 2020-03-26  \t  2020-03-30\n",
      "15172 update สีเขียว    --> สีเขียว\n",
      "\t 2020-04-09  \t  2020-03-23\n",
      "15172 update สีเขียว    --> สีส้ม\n",
      "\t 2020-03-23  \t  2020-04-03\n",
      "15648 update สีเขียว    --> สีเหลือง\n",
      "\t 2020-03-30  \t  2020-03-30\n",
      "1031 update สีเขียว    --> สีเหลือง\n",
      "\t 2020-04-04  \t  2020-04-08\n",
      "1031 update สีเหลือง   --> สีเหลือง\n",
      "\t 2020-04-08  \t  2020-04-06\n",
      "434 update สีเหลือง   --> สีเหลือง\n",
      "\t 2020-03-30  \t  2020-03-26\n",
      "434 update สีเหลือง   --> สีเขียว\n",
      "\t 2020-03-26  \t  2020-03-30\n",
      "434 update สีเขียว    --> สีเหลือง\n",
      "\t 2020-03-30  \t  2020-04-04\n",
      "434 update สีเหลือง   --> สีเหลือง\n",
      "\t 2020-04-04  \t  2020-04-03\n",
      "434 update สีเหลือง   --> สีเหลือง\n",
      "\t 2020-04-03  \t  2020-04-02\n",
      "434 update สีเหลือง   --> สีเหลือง\n",
      "\t 2020-04-02  \t  2020-03-31\n",
      "480 update สีส้ม      --> สีแดง\n",
      "\t 2020-04-06  \t  2020-04-07\n",
      "480 update สีแดง      --> สีแดง\n",
      "\t 2020-04-07  \t  2020-04-06\n",
      "15137 update สีเขียว    --> สีเหลือง\n",
      "\t 2020-04-03  \t  2020-04-03\n",
      "458 update สีเขียว    --> สีเหลือง\n",
      "\t 2020-03-24  \t  2020-04-02\n",
      "458 update สีเหลือง   --> สีเหลือง\n",
      "\t 2020-04-02  \t  2020-03-30\n",
      "458 update สีเหลือง   --> สีเหลือง\n",
      "\t 2020-03-30  \t  2020-03-24\n",
      "374 update สีเขียว    --> สีเหลือง\n",
      "\t 2020-03-24  \t  2020-04-01\n",
      "50 update สีเขียว    --> สีเหลือง\n",
      "\t 2020-03-30  \t  2020-03-30\n",
      "966 update สีเขียว    --> สีเหลือง\n",
      "\t 2020-04-01  \t  2020-04-01\n",
      "93 update สีเขียว    --> สีเหลือง\n",
      "\t 2020-03-30  \t  2020-03-30\n",
      "99 update สีเขียว    --> สีเหลือง\n",
      "\t 2020-03-30  \t  2020-03-31\n",
      "99 update สีเหลือง   --> สีเหลือง\n",
      "\t 2020-03-31  \t  2020-03-30\n",
      "15166 update สีส้ม      --> สีเหลือง\n",
      "\t 2020-03-26  \t  2020-04-02\n",
      "15166 update สีเหลือง   --> สีเหลือง\n",
      "\t 2020-04-02  \t  2020-03-31\n",
      "15243 update สีเขียว    --> สีเหลือง\n",
      "\t 2020-03-24  \t  2020-04-03\n",
      "15243 update สีเหลือง   --> สีเหลือง\n",
      "\t 2020-04-03  \t  2020-04-02\n",
      "15243 update สีเหลือง   --> สีเหลือง\n",
      "\t 2020-04-02  \t  2020-03-31\n",
      "15243 update สีเหลือง   --> สีเหลือง\n",
      "\t 2020-03-31  \t  2020-03-25\n",
      "15243 update สีเหลือง   --> สีเหลือง\n",
      "\t 2020-03-25  \t  2020-03-24\n",
      "258 update สีเขียว    --> สีเหลือง\n",
      "\t 2020-03-23  \t  2020-04-02\n",
      "15104 update สีส้ม      --> สีแดง\n",
      "\t 2020-03-30  \t  2020-04-10\n",
      "920 update สีเขียว    --> สีเหลือง\n",
      "\t 2020-04-01  \t  2020-04-01\n",
      "171 update สีเขียว    --> สีเหลือง\n",
      "\t 2020-03-31  \t  2020-03-31\n",
      "803 update สีเขียว    --> สีเหลือง\n",
      "\t 2020-03-30  \t  2020-04-04\n",
      "803 update สีเหลือง   --> สีเหลือง\n",
      "\t 2020-04-04  \t  2020-04-02\n",
      "15095 update สีเขียว    --> สีน้ำเงิน\n",
      "\t 2020-03-30  \t  2020-03-30\n",
      "607 update สีเขียว    --> สีเหลือง\n",
      "\t 2020-03-26  \t  2020-04-01\n",
      "163 update สีเขียว    --> สีเหลือง\n",
      "\t 2020-03-25  \t  2020-03-30\n",
      "163 update สีเหลือง   --> สีเหลือง\n",
      "\t 2020-03-30  \t  2020-03-29\n",
      "163 update สีเหลือง   --> สีเหลือง\n",
      "\t 2020-03-29  \t  2020-03-26\n",
      "163 update สีเหลือง   --> สีเหลือง\n",
      "\t 2020-03-26  \t  2020-03-25\n",
      "15596 update สีเหลือง   --> สีเหลือง\n",
      "\t 2020-04-05  \t  2020-04-04\n",
      "142 update สีเหลือง   --> สีเหลือง\n",
      "\t 2020-04-01  \t  2020-03-30\n",
      "15082 update สีเหลือง   --> สีเหลือง\n",
      "\t 2020-03-30  \t  2020-03-29\n",
      "971 update สีเขียว    --> สีเหลือง\n",
      "\t 2020-04-01  \t  2020-04-06\n",
      "971 update สีเหลือง   --> สีเหลือง\n",
      "\t 2020-04-06  \t  2020-04-01\n",
      "15117 update สีเขียว    --> สีเหลือง\n",
      "\t 2020-03-31  \t  2020-04-01\n",
      "15117 update สีเหลือง   --> สีเหลือง\n",
      "\t 2020-04-01  \t  2020-03-31\n",
      "398 update สีเหลือง   --> สีเหลือง\n",
      "\t 2020-03-30  \t  2020-03-24\n"
     ]
    }
   ],
   "source": [
    "for index, row in riskforms.iterrows():\n",
    "    try:\n",
    "        update_color(driver, row.to_dict())\n",
    "    except Exception as e:\n",
    "        print(e)"
   ]
  },
  {
   "cell_type": "markdown",
   "metadata": {},
   "source": [
    "### Create Edges"
   ]
  },
  {
   "cell_type": "code",
   "execution_count": 104,
   "metadata": {},
   "outputs": [],
   "source": [
    "def create_went_to_location(driver, param):\n",
    "    with driver.session() as session:\n",
    "        session.run(\"MERGE (b:Location {title:$messageTitle, lat:$messageLatitude, lon:$messageLongitude, address:$messageAddress})\", param)\n",
    "        session.run(\"\"\"MATCH (a:Person {name:$Username } )\n",
    "                       MATCH (b:Location {title:$messageTitle, lat:$messageLatitude, lon:$messageLongitude, address:$messageAddress})\n",
    "                       MERGE (a)-[r:WENT_TO {activity:$formLocationDetail, start:$start, end:$end}]->(b);\"\"\", param)"
   ]
  },
  {
   "cell_type": "code",
   "execution_count": 105,
   "metadata": {},
   "outputs": [],
   "source": [
    "for index, row in locforms.iterrows():\n",
    "    create_went_to_location(driver, row.to_dict())"
   ]
  },
  {
   "cell_type": "markdown",
   "metadata": {},
   "source": [
    "## Convert Graph to JSON"
   ]
  },
  {
   "cell_type": "code",
   "execution_count": 106,
   "metadata": {},
   "outputs": [],
   "source": [
    "# def get_node_info(node, gr):\n",
    "#     if 'Location' in gr:\n",
    "#         return {\"id\": node.id, \n",
    "#                 \"group\": gr,\n",
    "#                 \"label\": node['title'], \n",
    "#                 \"lon\": node['lon'], \n",
    "#                 \"lat\": node['lat'], \n",
    "#                }\n",
    "#     elif 'Person' in gr:\n",
    "#         return {\"id\": node.id,\n",
    "#                 \"db_id\": node['id'],\n",
    "#                 \"group\": gr, \n",
    "#                 \"label\": node.id,\n",
    "#                 \"color\": node['color'],\n",
    "#                 \"type\" : node['type'],\n",
    "#                 \"age\" : node['age'],\n",
    "#                 \"org\" : node['org'],\n",
    "#                 \"emptype\" : node['emptype'],\n",
    "#                 \"gender\" : node['gender'],\n",
    "#                 \"blood\" : node['blood'],\n",
    "#                 \"ismedstaff\" : node['ismedstaff'],\n",
    "#                 \"bloodres\" : node['bloodres'],\n",
    "#                 \"province\" : node['province']\n",
    "#                }\n",
    "#     else:\n",
    "#         raise Exceptions('Unknown Label')\n",
    "    \n",
    "    \n",
    "\n",
    "# def get_edge_info(edge, p_info, m_info):\n",
    "#     if edge.type == 'WENT_TO':\n",
    "#         return {\"from\": p_info[\"id\"], \"to\": m_info[\"id\"], \"label\": edge.type, \"start\":edge[\"start\"], \"end\":edge[\"end\"]}\n",
    "#     else:\n",
    "#         return {\"from\": p_info[\"id\"], \"to\": m_info[\"id\"], \"label\": edge.type}"
   ]
  },
  {
   "cell_type": "code",
   "execution_count": 107,
   "metadata": {},
   "outputs": [],
   "source": [
    "# with driver.session() as session:\n",
    "#     result = session.run(\"\"\"MATCH (p:Person)\n",
    "#                             OPTIONAL MATCH (p:Person)-[a]->(m)\n",
    "#                             RETURN  p, labels(p), a, m, labels(m);\"\"\")\n",
    "\n",
    "# print(result.summary().result_available_after)\n",
    "# print(result.summary().result_consumed_after)\n",
    "    \n",
    "# nodes = []\n",
    "# edges = []\n",
    "# physics = True\n",
    "\n",
    "# for record in result:\n",
    "#     p_info = get_node_info(record['p'], record['labels(p)'][0])\n",
    "    \n",
    "#     if p_info not in nodes:\n",
    "#         nodes.append(p_info)\n",
    "         \n",
    "#     if record['m']:\n",
    "#         m_info = get_node_info(record['m'], record['labels(m)'][0])\n",
    "#         if m_info not in nodes:\n",
    "#             nodes.append(m_info)\n",
    "\n",
    "#         edges.append(get_edge_info(record['a'], p_info, m_info))"
   ]
  },
  {
   "cell_type": "code",
   "execution_count": 108,
   "metadata": {},
   "outputs": [],
   "source": [
    "# import json\n",
    "# # json.dumps({'nodes':nodes, 'edges':edges})\n",
    "# with open('result' + date + '.json', 'w') as outfile:\n",
    "#     json.dump({'nodes':nodes, 'edges':edges}, outfile)"
   ]
  },
  {
   "cell_type": "code",
   "execution_count": null,
   "metadata": {},
   "outputs": [],
   "source": []
  }
 ],
 "metadata": {
  "kernelspec": {
   "display_name": "covid-19",
   "language": "python",
   "name": "covid-19"
  },
  "language_info": {
   "codemirror_mode": {
    "name": "ipython",
    "version": 3
   },
   "file_extension": ".py",
   "mimetype": "text/x-python",
   "name": "python",
   "nbconvert_exporter": "python",
   "pygments_lexer": "ipython3",
   "version": "3.7.0"
  }
 },
 "nbformat": 4,
 "nbformat_minor": 4
}
